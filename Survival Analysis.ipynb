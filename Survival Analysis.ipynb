{
 "cells": [
  {
   "cell_type": "code",
   "execution_count": 22,
   "id": "88fdef56",
   "metadata": {},
   "outputs": [],
   "source": [
    "from lifelines import KaplanMeierFitter\n",
    "from lifelines import CoxPHFitter\n",
    "import pandas as pd\n",
    "import datetime\n",
    "from matplotlib import pyplot as plt\n",
    "\n",
    "import tqdm.notebook as nb\n",
    "import numpy as np\n",
    "from scipy.stats import chi2_contingency\n",
    "import matplotlib.ticker as mtick\n",
    "from matplotlib.ticker import AutoMinorLocator, MultipleLocator\n",
    "\n",
    "import warnings\n",
    "warnings.filterwarnings('ignore')"
   ]
  },
  {
   "cell_type": "code",
   "execution_count": 3,
   "id": "9ee11163",
   "metadata": {},
   "outputs": [],
   "source": [
    "plt.rc('font', family='serif', serif='Times')\n",
    "# plt.rc('text', usetex=True)\n",
    "plt.rc('xtick', labelsize=8)\n",
    "plt.rc('ytick', labelsize=8)\n",
    "plt.rc('axes', labelsize=10)\n",
    "\n",
    "# width as measured in inkscape\n",
    "width = 3.125\n",
    "height = width / 1.618"
   ]
  },
  {
   "cell_type": "markdown",
   "id": "af4fda13",
   "metadata": {},
   "source": [
    "# Probability of survival from nomination for deletion"
   ]
  },
  {
   "cell_type": "code",
   "execution_count": null,
   "id": "9c11a0ed",
   "metadata": {},
   "outputs": [],
   "source": [
    "all_biographies2 = pd.read_csv('data/processed/all_biographies2.csv', index_col=False)"
   ]
  },
  {
   "cell_type": "code",
   "execution_count": null,
   "id": "d4357bf0",
   "metadata": {},
   "outputs": [],
   "source": [
    "survival_data_male = all_biographies2[all_biographies2['gender']=='male']\n",
    "survival_data_female = all_biographies2[all_biographies2['gender']=='female']\n",
    "\n",
    "kmf_male = KaplanMeierFitter(label='Men')\n",
    "kmf_female = KaplanMeierFitter(label='Women')\n",
    "\n",
    "\n",
    "kmf_male = kmf_male.fit(durations=survival_data_male['days_before_nomination'], event_observed=survival_data_male['nominated'])\n",
    "kmf_female = kmf_female.fit(durations=survival_data_female['days_before_nomination'], event_observed=survival_data_female['nominated'])"
   ]
  },
  {
   "cell_type": "code",
   "execution_count": null,
   "id": "c178a852",
   "metadata": {},
   "outputs": [],
   "source": [
    "fig, ax = plt.subplots()\n",
    "fig.subplots_adjust(left=.18, bottom=.2, right=.99, top=.97)\n",
    "\n",
    "kmf_male.plot(color='blue')\n",
    "kmf_female.plot(color='red')\n",
    "ax.set_xlabel('Days before Nomination')\n",
    "\n",
    "ax.set_ylabel('Probability of Survival')\n",
    "fig.set_size_inches(width, height)\n",
    "fig.savefig('reports/figures/Male_vs_Female_Survival.png', dpi=200)\n",
    "fig.show()"
   ]
  },
  {
   "cell_type": "code",
   "execution_count": null,
   "id": "0585759b",
   "metadata": {},
   "outputs": [],
   "source": []
  },
  {
   "cell_type": "code",
   "execution_count": null,
   "id": "a621ac66",
   "metadata": {},
   "outputs": [],
   "source": []
  },
  {
   "cell_type": "markdown",
   "id": "f324340d",
   "metadata": {},
   "source": [
    "# Merge with Living People set \n"
   ]
  },
  {
   "cell_type": "code",
   "execution_count": null,
   "id": "90bfd021",
   "metadata": {},
   "outputs": [],
   "source": [
    "print(\"Loading list of Living People...\")\n",
    "BLP=pd.read_csv('data/petscan/Living_people.csv', index_col=False)\n",
    "BLP=BLP[['title']]\n",
    "\n",
    "print(\"Merging All biographies with Living people...\")\n",
    "all_biographies2_BLP=pd.merge(all_biographies2,BLP, left_on='page_title',right_on='title', how='left')\n",
    "all_biographies2_BLP['BLP']= all_biographies2_BLP['title'].fillna(0)\n",
    "all_biographies2_BLP['Entry2']=all_biographies2_BLP['Entry'].apply(lambda x: x.replace(\" \",\"_\"))\n",
    "all_biographies2_BLP.loc[all_biographies2_BLP[(all_biographies2_BLP['Entry2'].isin(BLP['title'])) & (all_biographies2_BLP['BLP']==0)].index,'BLP'] =1\n",
    "all_biographies2_BLP.loc[all_biographies2_BLP['BLP']!=0,'BLP']=1\n",
    "\n",
    "\n",
    "print(\"Recoding Gender covariate...\")\n",
    "all_biographies2_BLP.loc[all_biographies2_BLP['gender']=='female','Female']=1\n",
    "all_biographies2_BLP.loc[all_biographies2_BLP['gender']!='female','Female']=0\n",
    "\n",
    "\n",
    "print(\"Formating date of birth and death...\")\n",
    "all_biographies2_BLP['birth']=all_biographies2_BLP['date_of_birth'].apply(lambda x: -1*int(x.split('-')[1]) if x[0]=='-' else( int(x.split('-')[0] ) if len(x.split('-')[0])==4 else ( int(x.split('-')[0]) if x[0]=='+' else 'no data') ) )\n",
    "all_biographies2_BLP['death']=all_biographies2_BLP['date_of_death'].apply(lambda x: -1*int(x.split('-')[1]) if x[0]=='-' else( int(x.split('-')[0] ) if len(x.split('-')[0])==4 else ( int(x.split('-')[0]) if x[0]=='+' else 'no data') ) )\n",
    "\n",
    "\n",
    "print(\"Splitting dataset based on the availability of dates of birth and death\")\n",
    "part_1=all_biographies2_BLP[all_biographies2_BLP['death']!='no data']\n",
    "part_2=all_biographies2_BLP[(all_biographies2_BLP['birth']!='no data') & (all_biographies2_BLP['death']=='no data')]\n",
    "part_3=all_biographies2_BLP[(all_biographies2_BLP['birth']=='no data') & (all_biographies2_BLP['death']=='no data')]"
   ]
  },
  {
   "cell_type": "code",
   "execution_count": null,
   "id": "abc8f881",
   "metadata": {},
   "outputs": [],
   "source": []
  },
  {
   "cell_type": "code",
   "execution_count": null,
   "id": "1291be90",
   "metadata": {},
   "outputs": [],
   "source": [
    "len(all_biographies2_BLP), len(part_1),len(part_2), len(part_3), len(part_1)+len(part_2)+ len(part_3)"
   ]
  },
  {
   "cell_type": "code",
   "execution_count": null,
   "id": "9977b4bd",
   "metadata": {},
   "outputs": [],
   "source": []
  },
  {
   "cell_type": "code",
   "execution_count": null,
   "id": "a30c52b6",
   "metadata": {},
   "outputs": [],
   "source": []
  },
  {
   "cell_type": "code",
   "execution_count": null,
   "id": "c415e6ea",
   "metadata": {},
   "outputs": [],
   "source": []
  },
  {
   "cell_type": "markdown",
   "id": "07c3db4f",
   "metadata": {},
   "source": [
    "#### Fix the data with death data"
   ]
  },
  {
   "cell_type": "code",
   "execution_count": null,
   "id": "7848d92a",
   "metadata": {},
   "outputs": [],
   "source": [
    "print(\"Part 1: Set up and process the data, focusing on entries that include a recorded date of death...\")\n",
    "part_1['Alive']=0\n",
    "\n",
    "print(\"Splitting data based on availbility of date of birth...\")\n",
    "part_1A=part_1[part_1['birth']!='no data']\n",
    "part_1B=part_1[part_1['birth']=='no data']\n",
    "\n",
    "print(\"Removing data with wrong date of birth..\")\n",
    "part_1A['wrong']=part_1A.apply(lambda row: 1 if int(str(row['creation_date_original2'])[:4])< row['birth'] else 0,axis=1)\n",
    "part_1A=part_1A[part_1A['wrong']==0]\n",
    "part_1A=part_1A.drop(columns=['wrong'])\n",
    "\n",
    "print(\"Identifying date of birth of the people who are dead...\")\n",
    "part_1B['birth']=part_1B['death'].apply(lambda x: x-70)\n",
    "\n",
    "part_1=pd.concat([part_1A,part_1B])\n",
    "\n",
    "print(\"Identifying the living people at the time of nomination who are deceased after 2000...\")\n",
    "part_1_after2000=part_1[part_1['death']>=2000]\n",
    "part_1_before2000=part_1[part_1['death']<2000]\n",
    "part_1_after2000['Alive']=part_1_after2000.apply(lambda row: 1 if pd.to_datetime(row['nomination_dates'],utc=True)< pd.to_datetime(str(row['death']).replace(\"+\",\"\"), utc=True) else 0,axis=1)\n",
    "\n",
    "\n",
    "\n",
    "part_1=pd.concat([part_1_before2000,part_1_after2000])\n",
    "print(\"Done with Part 1!\")\n"
   ]
  },
  {
   "cell_type": "code",
   "execution_count": null,
   "id": "e4cf3349",
   "metadata": {},
   "outputs": [],
   "source": [
    "len(part_1)"
   ]
  },
  {
   "cell_type": "markdown",
   "id": "a1e3eef9",
   "metadata": {},
   "source": [
    "#### Fix the data with birth date but no death date"
   ]
  },
  {
   "cell_type": "code",
   "execution_count": null,
   "id": "d116f6db",
   "metadata": {},
   "outputs": [],
   "source": [
    "len(part_2)"
   ]
  },
  {
   "cell_type": "code",
   "execution_count": null,
   "id": "fc9d160e",
   "metadata": {},
   "outputs": [],
   "source": [
    "print(\"Part 2: Set up and correct the data, ensuring entries with a birth date but no death date are properly handled...\\n\")\n",
    "print(\"Removing data with wrong date of birth...\\n\")\n",
    "part_2['wrong']=part_2.apply(lambda row: 1 if int(str(row['creation_date_original2'])[:4])< row['birth'] else 0,axis=1)\n",
    "part_2=part_2[part_2['wrong']==0]\n",
    "part_2=part_2.drop(columns=['wrong'])\n",
    "\n",
    "print(\"Identifying people born before 1907...\\n\")\n",
    "part_2C=part_2[part_2['birth']<1907]\n",
    "part_2C['Alive']=0\n",
    "\n",
    "print(\"Identifying people born after 1907 and alive...\\n\")\n",
    "part_2_notC = part_2[part_2['birth']>=1907]\n",
    "part_2A = part_2_notC[part_2_notC['BLP']==1]\n",
    "part_2A['Alive']=1\n",
    "\n",
    "print(\"Identifying people born after 1907 and deceased...\\n\")\n",
    "part_2B = part_2_notC[part_2_notC['BLP']==0]\n",
    "dead=pd.read_csv('data/petscan/Dead_people_all.csv',error_bad_lines=False, index_col=False)\n",
    "part_2B_a=part_2B[part_2B['page_title'].isin(dead['title'])].drop_duplicates(subset='page_title', keep='first')\n",
    "part_2B_a['Alive']=0\n",
    "part_2B_b=part_2B[~part_2B['page_title'].isin(dead['title'])].drop_duplicates(subset='page_title', keep='first')\n",
    "part_2B_b['Alive']=1\n",
    "\n",
    "part_2=pd.concat([part_2A,part_2B_a,part_2B_b,part_2C])\n",
    "print(\"Done with Part 2!\\n\")"
   ]
  },
  {
   "cell_type": "code",
   "execution_count": null,
   "id": "c5d9f810",
   "metadata": {},
   "outputs": [],
   "source": [
    "len(part_2)"
   ]
  },
  {
   "cell_type": "code",
   "execution_count": null,
   "id": "78dabe55",
   "metadata": {},
   "outputs": [],
   "source": []
  },
  {
   "cell_type": "code",
   "execution_count": null,
   "id": "a50997ee",
   "metadata": {},
   "outputs": [],
   "source": []
  },
  {
   "cell_type": "markdown",
   "id": "62ed26e8",
   "metadata": {},
   "source": [
    "#### Fix the data with no birth date and no death date"
   ]
  },
  {
   "cell_type": "code",
   "execution_count": null,
   "id": "00065b5e",
   "metadata": {},
   "outputs": [],
   "source": [
    "len(part_3)"
   ]
  },
  {
   "cell_type": "code",
   "execution_count": null,
   "id": "d7228064",
   "metadata": {},
   "outputs": [],
   "source": [
    "print(\"Identifying living people...\\n\")\n",
    "part_3A = part_3[part_3['BLP']==1]\n",
    "part_3A['Alive']=1\n",
    "part_3A['is_Historical']=0\n",
    "part_3B = part_3[part_3['BLP']==0]\n",
    "# part_3B['Alive']=0"
   ]
  },
  {
   "cell_type": "code",
   "execution_count": null,
   "id": "f9377722",
   "metadata": {},
   "outputs": [],
   "source": []
  },
  {
   "cell_type": "markdown",
   "id": "01db2756",
   "metadata": {},
   "source": [
    "if cutoff 1800"
   ]
  },
  {
   "cell_type": "code",
   "execution_count": null,
   "id": "5321606f",
   "metadata": {},
   "outputs": [],
   "source": [
    "birth_from_begin_till_17th_century=pd.read_csv('csv_files/data_Gender_bias/data_survival_analysis/birth_from_begin_till_17th_century.csv',error_bad_lines=False, index_col=False)\n",
    "birth_18thcentury=pd.read_csv('csv_files/data_Gender_bias/data_survival_analysis/birth_18thcentury.csv',error_bad_lines=False, index_col=False)\n"
   ]
  },
  {
   "cell_type": "code",
   "execution_count": null,
   "id": "f050d9d3",
   "metadata": {},
   "outputs": [],
   "source": [
    "historical_people = pd.concat([birth_from_begin_till_17th_century,birth_18thcentury])"
   ]
  },
  {
   "cell_type": "code",
   "execution_count": null,
   "id": "dc78e87d",
   "metadata": {},
   "outputs": [],
   "source": [
    "conteporary_people=pd.read_csv('csv_files/data_Gender_bias/data_survival_analysis/birth_19th_century_to_3rd_Millenium.csv',error_bad_lines=False, index_col=False)\n"
   ]
  },
  {
   "cell_type": "code",
   "execution_count": null,
   "id": "b18e330c",
   "metadata": {},
   "outputs": [],
   "source": []
  },
  {
   "cell_type": "code",
   "execution_count": null,
   "id": "e2f94af0",
   "metadata": {},
   "outputs": [],
   "source": []
  },
  {
   "cell_type": "markdown",
   "id": "80716f10",
   "metadata": {},
   "source": [
    "If cutoff 1945"
   ]
  },
  {
   "cell_type": "code",
   "execution_count": null,
   "id": "fe3cf9ae",
   "metadata": {},
   "outputs": [],
   "source": [
    "birth_from_begin_till_1st_millenium=pd.read_csv('csv_files/data_Gender_bias/data_survival_analysis/birth_from_begin_till_1st_millenium.csv',error_bad_lines=False, index_col=False)\n",
    "birth_2nd_millenium_without_20th_century=pd.read_csv('csv_files/data_Gender_bias/data_survival_analysis/birth_2nd_millenium_without_20th_century.csv',error_bad_lines=False, index_col=False)\n",
    "birth_from1900s_to_1945=pd.read_csv('csv_files/data_Gender_bias/data_survival_analysis/birth_from1900s_to_1945.csv',error_bad_lines=False, index_col=False)\n",
    "\n"
   ]
  },
  {
   "cell_type": "code",
   "execution_count": null,
   "id": "0038f7b0",
   "metadata": {},
   "outputs": [],
   "source": [
    "historical_people = pd.concat([birth_from_begin_till_1st_millenium,birth_2nd_millenium_without_20th_century,birth_from1900s_to_1945])"
   ]
  },
  {
   "cell_type": "code",
   "execution_count": null,
   "id": "34e3c467",
   "metadata": {},
   "outputs": [],
   "source": [
    "conteporary_people=pd.read_csv('csv_files/data_Gender_bias/data_survival_analysis/birth_19th_century_to_3rd_Millenium.csv',error_bad_lines=False, index_col=False)"
   ]
  },
  {
   "cell_type": "code",
   "execution_count": null,
   "id": "7c63a707",
   "metadata": {},
   "outputs": [],
   "source": []
  },
  {
   "cell_type": "code",
   "execution_count": null,
   "id": "1cbb8aae",
   "metadata": {},
   "outputs": [],
   "source": []
  },
  {
   "cell_type": "code",
   "execution_count": null,
   "id": "d1c92bae",
   "metadata": {},
   "outputs": [],
   "source": []
  },
  {
   "cell_type": "markdown",
   "id": "5f061398",
   "metadata": {},
   "source": [
    "If cutoff 1907"
   ]
  },
  {
   "cell_type": "code",
   "execution_count": null,
   "id": "8c8a06e5",
   "metadata": {},
   "outputs": [],
   "source": [
    "print(\"Identifying living and historical status based on birth by decades...\\n\")\n",
    "\n",
    "print(\"collect data with date of birth before 1907...\\n\")\n",
    "birth_from_begin_till_1st_millenium=pd.read_csv('data/petscan/birth_from_begin_till_1st_millenium.csv',error_bad_lines=False, index_col=False)\n",
    "birth_2nd_millenium_without_20th_century=pd.read_csv('data/petscan/birth_2nd_millenium_without_20th_century.csv',error_bad_lines=False, index_col=False)\n",
    "birth_1900s_without_07_08_09=pd.read_csv('data/petscan/birth_1900s_without_07,08,09.csv',error_bad_lines=False, index_col=False)\n",
    "\n",
    "\n",
    "\n",
    "len(birth_from_begin_till_1st_millenium), len(birth_2nd_millenium_without_20th_century)\n",
    "\n",
    "print(\"collect data with date of birth after 1907...\\n\")\n",
    "birth_1907_08_09=pd.read_csv('data/petscan/birth_1907,08,09.csv',error_bad_lines=False, index_col=False)\n",
    "birth_20th_century_without_1900s=pd.read_csv('data/petscan/birth_20th_century_without_1900s.csv',error_bad_lines=False, index_col=False)\n",
    "birth_21st_century=pd.read_csv('data/petscan/birth_21st-century.csv',error_bad_lines=False, index_col=False)\n",
    "\n",
    "\n",
    "historical_people = pd.concat([birth_from_begin_till_1st_millenium,birth_2nd_millenium_without_20th_century,birth_1900s_without_07_08_09])\n",
    "\n",
    "contemporary_people = pd.concat([birth_1907_08_09,birth_20th_century_without_1900s,birth_21st_century])\n",
    "\n",
    "print(\"Identifying historical people...\\n\")\n",
    "part_3B_a=part_3B[part_3B['page_title'].isin(historical_people['title'])]\n",
    "part_3B_a['Alive']=0\n",
    "part_3B_a['is_Historical']=1\n",
    "\n",
    "print(\"Identifying contemporary deceased people...\\n\")\n",
    "part_3B_b=part_3B[~part_3B['page_title'].isin(historical_people['title'])]\n",
    "part_3B_b_contemporary=part_3B_b[part_3B_b['page_title'].isin(contemporary_people['title'])]\n",
    "dead=pd.read_csv('data/petscan/Dead_people_all.csv',error_bad_lines=False, index_col=False)\n",
    "part_3B_b_contemporary_dead=part_3B_b_contemporary[part_3B_b_contemporary['page_title'].isin(dead['title'])]\n",
    "part_3B_b_contemporary_dead['Alive']=0\n",
    "part_3B_b_contemporary_dead['is_Historical']=0\n",
    "\n",
    "print(\"Identifying data without date of birth and death information...\\n\")\n",
    "Totally_unlnown_group = pd.concat([part_3B_b[~part_3B_b['page_title'].isin(contemporary_people['title'])],part_3B_b_contemporary[~part_3B_b_contemporary['page_title'].isin(dead['title'])]])\n",
    "\n",
    "print(\"Identifying people deceased before 1907...\\n\")\n",
    "dead_historical=pd.read_csv('data/petscan/Dead_people_historical.csv',error_bad_lines=False, index_col=False)\n",
    "part_3B_unknown_historical_dead=Totally_unlnown_group[Totally_unlnown_group['page_title'].isin(dead_historical['title'])]\n",
    "part_3B_unknown_historical_dead['Alive']=0\n",
    "part_3B_unknown_historical_dead['is_Historical']=1\n",
    "\n",
    "\n",
    "part_3_better=pd.concat([part_3A,part_3B_a,part_3B_b_contemporary_dead, part_3B_unknown_historical_dead])\n",
    "not_part_3=part_3[~part_3['page_title'].isin(part_3_better['page_title'])]\n",
    "\n",
    "print(\"Identifying people deceased after 1907...\\n\")\n",
    "Dead_people_from1900_to1977=pd.read_csv('data/petscan/Dead_people_from1900_to1977.csv',error_bad_lines=False, index_col=False)\n",
    "dead_contemporary_2=dead[~dead['title'].isin(pd.concat([dead_historical,Dead_people_from1900_to1977])['title'])]\n",
    "\n",
    "print(\"Consider the rest of people as alive...\\n\")\n",
    "probably_alive=not_part_3[~not_part_3['page_title'].isin(dead_contemporary_2['title'])]\n",
    "probably_alive['Alive']=1\n",
    "probably_alive['is_Historical']=0\n",
    "\n",
    "part_3_better=pd.concat([part_3_better,probably_alive])\n",
    "\n"
   ]
  },
  {
   "cell_type": "code",
   "execution_count": null,
   "id": "9110abe6",
   "metadata": {},
   "outputs": [],
   "source": [
    "Totally_unlnown_group"
   ]
  },
  {
   "cell_type": "code",
   "execution_count": null,
   "id": "c64e36ed",
   "metadata": {},
   "outputs": [],
   "source": []
  },
  {
   "cell_type": "code",
   "execution_count": null,
   "id": "a4288b43",
   "metadata": {},
   "outputs": [],
   "source": []
  },
  {
   "cell_type": "code",
   "execution_count": null,
   "id": "992e9b2b",
   "metadata": {},
   "outputs": [],
   "source": []
  },
  {
   "cell_type": "markdown",
   "id": "2249acc3",
   "metadata": {},
   "source": [
    "if cutoff 1800"
   ]
  },
  {
   "cell_type": "code",
   "execution_count": null,
   "id": "cf4b7050",
   "metadata": {},
   "outputs": [],
   "source": [
    "death_from_begin_till_18th_century=pd.read_csv('csv_files/data_Gender_bias/data_survival_analysis/death_from_begin_till_18th_century.csv',error_bad_lines=False, index_col=False)\n",
    "death_from_1800s_to_1870s=pd.read_csv('csv_files/data_Gender_bias/data_survival_analysis/death_from_1800s_to_1870s.csv',error_bad_lines=False, index_col=False)\n"
   ]
  },
  {
   "cell_type": "code",
   "execution_count": null,
   "id": "e47b597f",
   "metadata": {},
   "outputs": [],
   "source": [
    "dead_historical = pd.concat([death_from_begin_till_18th_century,death_from_1800s_to_1870s])"
   ]
  },
  {
   "cell_type": "code",
   "execution_count": null,
   "id": "d59fefbf",
   "metadata": {},
   "outputs": [],
   "source": [
    "len(dead_historical)"
   ]
  },
  {
   "cell_type": "code",
   "execution_count": null,
   "id": "d2150a17",
   "metadata": {},
   "outputs": [],
   "source": []
  },
  {
   "cell_type": "markdown",
   "id": "a09203ec",
   "metadata": {},
   "source": [
    "if cutoff 1907"
   ]
  },
  {
   "cell_type": "code",
   "execution_count": null,
   "id": "447186c8",
   "metadata": {},
   "outputs": [],
   "source": [
    "print(\"Identifying people deceased before 1907...\\n\")\n",
    "dead_historical=pd.read_csv('data/petscan/Dead_people_historical.csv',error_bad_lines=False, index_col=False)\n",
    "part_3B_unknown_historical_dead=Totally_unlnown_group[Totally_unlnown_group['page_title'].isin(dead_historical['title'])]\n",
    "part_3B_unknown_historical_dead['Alive']=0\n",
    "part_3B_unknown_historical_dead['is_Historical']=1\n",
    "\n",
    "\n",
    "part_3_better=pd.concat([part_3A,part_3B_a,part_3B_b_contemporary_dead, part_3B_unknown_historical_dead])\n",
    "not_part_3=part_3[~part_3['page_title'].isin(part_3_better['page_title'])]"
   ]
  },
  {
   "cell_type": "code",
   "execution_count": null,
   "id": "18d4200d",
   "metadata": {},
   "outputs": [],
   "source": [
    "not_part_3['nominated'].value_counts()"
   ]
  },
  {
   "cell_type": "markdown",
   "id": "8de4e105",
   "metadata": {},
   "source": [
    "if cutoff 1800"
   ]
  },
  {
   "cell_type": "code",
   "execution_count": null,
   "id": "d8c38ee8",
   "metadata": {},
   "outputs": [],
   "source": [
    "death_1880s_to_3rd_millenium=pd.read_csv('csv_files/data_Gender_bias/data_survival_analysis/death_1880s_to_3rd_millenium.csv',error_bad_lines=False, index_col=False)\n"
   ]
  },
  {
   "cell_type": "code",
   "execution_count": null,
   "id": "2b348aeb",
   "metadata": {},
   "outputs": [],
   "source": [
    "contemporary_dead=not_part_3[not_part_3['page_title'].isin(death_1880s_to_3rd_millenium['title'])]"
   ]
  },
  {
   "cell_type": "code",
   "execution_count": null,
   "id": "e5ffcc26",
   "metadata": {},
   "outputs": [],
   "source": [
    "contemporary_dead['Alive']=0\n",
    "contemporary_dead['Historical']=0"
   ]
  },
  {
   "cell_type": "code",
   "execution_count": null,
   "id": "68074c78",
   "metadata": {},
   "outputs": [],
   "source": [
    "part_3_better"
   ]
  },
  {
   "cell_type": "code",
   "execution_count": null,
   "id": "30feca79",
   "metadata": {},
   "outputs": [],
   "source": [
    "probably_alive=not_part_3[~not_part_3['page_title'].isin(contemporary_dead['title'])]"
   ]
  },
  {
   "cell_type": "code",
   "execution_count": null,
   "id": "166f1562",
   "metadata": {},
   "outputs": [],
   "source": [
    "probably_alive"
   ]
  },
  {
   "cell_type": "code",
   "execution_count": null,
   "id": "70fbf992",
   "metadata": {},
   "outputs": [],
   "source": [
    "len(all_biographies2_with_data)+len(probably_alive)"
   ]
  },
  {
   "cell_type": "code",
   "execution_count": null,
   "id": "313e2152",
   "metadata": {},
   "outputs": [],
   "source": []
  },
  {
   "cell_type": "code",
   "execution_count": null,
   "id": "a6f723d9",
   "metadata": {},
   "outputs": [],
   "source": []
  },
  {
   "cell_type": "markdown",
   "id": "c5eb2d11",
   "metadata": {},
   "source": [
    "if cutoff 1907"
   ]
  },
  {
   "cell_type": "code",
   "execution_count": null,
   "id": "a95db7b2",
   "metadata": {},
   "outputs": [],
   "source": [
    "len(not_part_3)/len(all_biographies2_BLP)"
   ]
  },
  {
   "cell_type": "code",
   "execution_count": null,
   "id": "2925280e",
   "metadata": {},
   "outputs": [],
   "source": [
    "print(\"Identifying people deceased after 1907...\\n\")\n",
    "Dead_people_from1900_to1977=pd.read_csv('data/petscan/Dead_people_from1900_to1977.csv',error_bad_lines=False, index_col=False)\n",
    "dead_contemporary_2=dead[~dead['title'].isin(pd.concat([dead_historical,Dead_people_from1900_to1977])['title'])]\n",
    "\n",
    "print(\"Consider the rest of people as alive...\\n\")\n",
    "probably_alive=not_part_3[~not_part_3['page_title'].isin(dead_contemporary_2['title'])]\n",
    "probably_alive['Alive']=1\n",
    "probably_alive['is_Historical']=0\n",
    "\n",
    "part_3_better=pd.concat([part_3_better,probably_alive])"
   ]
  },
  {
   "cell_type": "code",
   "execution_count": null,
   "id": "c8b1dacb",
   "metadata": {},
   "outputs": [],
   "source": []
  },
  {
   "cell_type": "code",
   "execution_count": null,
   "id": "ee044879",
   "metadata": {},
   "outputs": [],
   "source": []
  },
  {
   "cell_type": "code",
   "execution_count": null,
   "id": "84a253a6",
   "metadata": {},
   "outputs": [],
   "source": [
    "part_3_better['is_Historical'].value_counts()"
   ]
  },
  {
   "cell_type": "code",
   "execution_count": null,
   "id": "c3c98380",
   "metadata": {},
   "outputs": [],
   "source": [
    "part_3_better['Alive'].value_counts()"
   ]
  },
  {
   "cell_type": "code",
   "execution_count": null,
   "id": "62b1c9be",
   "metadata": {},
   "outputs": [],
   "source": []
  },
  {
   "cell_type": "code",
   "execution_count": null,
   "id": "c7ce4d10",
   "metadata": {},
   "outputs": [],
   "source": []
  },
  {
   "cell_type": "markdown",
   "id": "6f8f677a",
   "metadata": {},
   "source": [
    "#### Concat all parts "
   ]
  },
  {
   "cell_type": "code",
   "execution_count": null,
   "id": "a9f9f130",
   "metadata": {},
   "outputs": [],
   "source": [
    "print(len(part_1), len(part_2), len(part_3_better))"
   ]
  },
  {
   "cell_type": "code",
   "execution_count": null,
   "id": "792475ec",
   "metadata": {},
   "outputs": [],
   "source": [
    "len(part_3_better), len(part_3)"
   ]
  },
  {
   "cell_type": "code",
   "execution_count": null,
   "id": "fe2a8b32",
   "metadata": {},
   "outputs": [],
   "source": [
    "part_1[['Entry','birth','death','Alive']]"
   ]
  },
  {
   "cell_type": "code",
   "execution_count": null,
   "id": "e45aa341",
   "metadata": {},
   "outputs": [],
   "source": [
    "part_2[['Entry','birth','death','Alive']]"
   ]
  },
  {
   "cell_type": "code",
   "execution_count": null,
   "id": "4dc530b7",
   "metadata": {},
   "outputs": [],
   "source": [
    "len(all_biographies2_BLP),len(part_1) + len(part_2) "
   ]
  },
  {
   "cell_type": "code",
   "execution_count": null,
   "id": "b92eec73",
   "metadata": {},
   "outputs": [],
   "source": [
    "print(\"Join all the data...\\n\")\n",
    "all_biographies2_with_data=pd.concat([part_1,part_2])\n",
    "all_biographies2_with_data.loc[all_biographies2_with_data[all_biographies2_with_data['birth']>=1907].index,'is_Historical']=0\n",
    "all_biographies2_with_data.loc[all_biographies2_with_data[all_biographies2_with_data['birth']<1907].index,'is_Historical']=1\n",
    "all_biographies2_with_data=pd.concat([all_biographies2_with_data, part_3_better]).drop_duplicates(subset='page_title', keep='first')"
   ]
  },
  {
   "cell_type": "code",
   "execution_count": null,
   "id": "7ac66e33",
   "metadata": {},
   "outputs": [],
   "source": [
    "all_biographies2_with_data['is_Historical'].value_counts()"
   ]
  },
  {
   "cell_type": "code",
   "execution_count": null,
   "id": "a3e9be8f",
   "metadata": {},
   "outputs": [],
   "source": [
    "all_biographies2_with_data['is_Historical'].value_counts()"
   ]
  },
  {
   "cell_type": "code",
   "execution_count": null,
   "id": "9cc8cf68",
   "metadata": {},
   "outputs": [],
   "source": [
    "all_biographies2_with_data"
   ]
  },
  {
   "cell_type": "code",
   "execution_count": null,
   "id": "a821fb9a",
   "metadata": {},
   "outputs": [],
   "source": [
    "all_biographies2_with_data = pd.read_csv('csv_files/data_Gender_bias/data_survival_analysis/all_biographies2_with_data_without_history_level.csv', index_col=False)"
   ]
  },
  {
   "cell_type": "code",
   "execution_count": null,
   "id": "1259710a",
   "metadata": {},
   "outputs": [],
   "source": []
  },
  {
   "cell_type": "code",
   "execution_count": null,
   "id": "3ff89f3d",
   "metadata": {},
   "outputs": [],
   "source": []
  },
  {
   "cell_type": "markdown",
   "id": "0626368e",
   "metadata": {},
   "source": [
    "# Study From Here "
   ]
  },
  {
   "cell_type": "code",
   "execution_count": null,
   "id": "ed2f5bfd",
   "metadata": {},
   "outputs": [],
   "source": [
    "annotation_status = pd.read_csv('csv_files/data_Gender_bias/data_survival_analysis/Annotation_Status - Annotated_Status.csv', index_col=False)"
   ]
  },
  {
   "cell_type": "code",
   "execution_count": null,
   "id": "eed80583",
   "metadata": {},
   "outputs": [],
   "source": [
    "len(annotation_status)"
   ]
  },
  {
   "cell_type": "code",
   "execution_count": null,
   "id": "3b8198f1",
   "metadata": {},
   "outputs": [],
   "source": [
    "annotation_status.head()"
   ]
  },
  {
   "cell_type": "code",
   "execution_count": null,
   "id": "cca6257a",
   "metadata": {},
   "outputs": [],
   "source": [
    "annotation_status.columns"
   ]
  },
  {
   "cell_type": "code",
   "execution_count": null,
   "id": "ddb39d52",
   "metadata": {},
   "outputs": [],
   "source": [
    "no_annotation_status=annotation_status[annotation_status['Alive']=='dont know']"
   ]
  },
  {
   "cell_type": "code",
   "execution_count": null,
   "id": "2bcd52f8",
   "metadata": {},
   "outputs": [],
   "source": [
    "annotation_status=annotation_status[annotation_status['Alive']!='dont know']"
   ]
  },
  {
   "cell_type": "code",
   "execution_count": null,
   "id": "c2c8f170",
   "metadata": {},
   "outputs": [],
   "source": [
    "len(no_annotation_status)"
   ]
  },
  {
   "cell_type": "code",
   "execution_count": null,
   "id": "2a89ddf9",
   "metadata": {},
   "outputs": [],
   "source": [
    "annotation_status['Status']=annotation_status.apply(lambda row: \"Historical\" if row['is_Historical']==1 else (\"Contemporary Dead\" if row['Alive']==0 else \"Alive\"), axis=1)\n"
   ]
  },
  {
   "cell_type": "code",
   "execution_count": null,
   "id": "d77eab8c",
   "metadata": {},
   "outputs": [],
   "source": [
    "sample_merge_evaluation=pd.merge(annotation_status[['page_title','QID','Status','birth']], all_biographies2_with_data[['page_title','QID','Status']], on = 'QID')"
   ]
  },
  {
   "cell_type": "code",
   "execution_count": null,
   "id": "a27fb67e",
   "metadata": {},
   "outputs": [],
   "source": [
    "from sklearn.metrics import classification_report"
   ]
  },
  {
   "cell_type": "code",
   "execution_count": null,
   "id": "c75692f8",
   "metadata": {},
   "outputs": [],
   "source": [
    "print(classification_report(sample_merge_evaluation['Status_x'],sample_merge_evaluation['Status_y']))"
   ]
  },
  {
   "cell_type": "code",
   "execution_count": null,
   "id": "ac8fce6a",
   "metadata": {},
   "outputs": [],
   "source": [
    "len(annotation_status)/len(all_biographies2_with_data)"
   ]
  },
  {
   "cell_type": "code",
   "execution_count": null,
   "id": "0b218e08",
   "metadata": {},
   "outputs": [],
   "source": []
  },
  {
   "cell_type": "markdown",
   "id": "3893409e",
   "metadata": {},
   "source": [
    "# Cox regression analysis"
   ]
  },
  {
   "cell_type": "code",
   "execution_count": null,
   "id": "79b1512b",
   "metadata": {},
   "outputs": [],
   "source": [
    "all_biographies2_with_data = pd.read_csv('data/processed/all_biographies2_with_data.csv', index_col=False)"
   ]
  },
  {
   "cell_type": "code",
   "execution_count": null,
   "id": "0918a678",
   "metadata": {},
   "outputs": [],
   "source": [
    "all_biographies2_with_data.head()"
   ]
  },
  {
   "cell_type": "code",
   "execution_count": null,
   "id": "a0d5d738",
   "metadata": {},
   "outputs": [],
   "source": [
    "fused_var_model = CoxPHFitter()\n",
    "fused_var_model.fit(all_biographies2_with_data[['days_before_nomination','nominated','Gender', 'Wikipedia_Age','Status']].sample(frac=1), duration_col='days_before_nomination', event_col='nominated', formula=\"Gender + Wikipedia_Age + Status\")\n",
    "\n",
    "fused_var_model_interaction = CoxPHFitter()\n",
    "fused_var_model_interaction.fit(all_biographies2_with_data[['days_before_nomination','nominated','Gender', 'Wikipedia_Age','Status']].sample(frac=1), duration_col='days_before_nomination', event_col='nominated', formula=\"Gender + Wikipedia_Age + Status + Gender*Status\")\n"
   ]
  },
  {
   "cell_type": "code",
   "execution_count": null,
   "id": "c090ede9",
   "metadata": {},
   "outputs": [],
   "source": [
    "fig, ax = plt.subplots()\n",
    "fig.subplots_adjust(left=.58, bottom=.2, right=.99, top=.97)\n",
    "\n",
    "fused_var_model.plot(ax=ax)\n",
    "ax.set_xlim((-3,1))\n",
    "\n",
    "fig.set_size_inches(width, height)\n",
    "\n",
    "fig.savefig('reports/figures/Cox_prop_model.png', dpi=200)\n"
   ]
  },
  {
   "cell_type": "code",
   "execution_count": null,
   "id": "c78fd1a8",
   "metadata": {},
   "outputs": [],
   "source": [
    "fig, ax = plt.subplots()\n",
    "fig.subplots_adjust(left=.58, bottom=.2, right=.99, top=.97)\n",
    "\n",
    "fused_var_model_interaction.plot(ax=ax)\n",
    "ax.set_xlim((-3,1))\n",
    "\n",
    "fig.set_size_inches(width, height)\n",
    "fig.savefig('reports/figures/Cox_prop_model_interaction.png', dpi=200)\n"
   ]
  },
  {
   "cell_type": "code",
   "execution_count": null,
   "id": "3ad841e9",
   "metadata": {},
   "outputs": [],
   "source": [
    "fused_var_model.print_summary()"
   ]
  },
  {
   "cell_type": "code",
   "execution_count": null,
   "id": "48a45d6b",
   "metadata": {},
   "outputs": [],
   "source": [
    "fused_var_model_interaction.print_summary()"
   ]
  },
  {
   "cell_type": "code",
   "execution_count": null,
   "id": "4f73bed9",
   "metadata": {},
   "outputs": [],
   "source": []
  },
  {
   "cell_type": "code",
   "execution_count": null,
   "id": "f477b96f",
   "metadata": {},
   "outputs": [],
   "source": [
    "%matplotlib inline"
   ]
  },
  {
   "cell_type": "code",
   "execution_count": null,
   "id": "fc6569a7",
   "metadata": {},
   "outputs": [],
   "source": [
    "\n",
    "fig, ax = plt.subplots(nrows=1, ncols=2, sharex=True,sharey=True)\n",
    "fig.subplots_adjust(left=.17, bottom=.16, right=.99, top=.97)\n",
    "\n",
    "\n",
    "cycler = plt.cycler(linestyle=[':', \"--\", \"-\",':', \"--\", \"-\"],\n",
    "                    color = ['blue','blue','blue','red','red', 'red'],\n",
    ")\n",
    "ax[0].set_prop_cycle(cycler)\n",
    "\n",
    "fused_var_model.plot_partial_effects_on_outcome(covariates=['Gender','Status'],\n",
    "                                               values=[[0,'Historical'],[0,'Contemporary Dead'],[0,'Alive'],[1,'Historical'],[1,'Contemporary Dead'],[1,'Alive']],\n",
    "                                               color = ['blue','blue','blue','red','red', 'red'],\n",
    "                                                      \n",
    "                                               ax=ax[0]\n",
    "                                                       \n",
    "                                             \n",
    "                                              )\n",
    "ax[0].set_ylabel('Probability of Survival')\n",
    "ax[0].legend(labels=['Men Historical','Men Contemporary Dead','Men Alive','Women Historical','Women Contemporary Dead','Women  Alive'], \n",
    "             loc='best', bbox_to_anchor=(3.6, 1), fontsize='x-small')\n",
    "\n",
    "\n",
    "ax[1].set_prop_cycle(cycler)\n",
    "\n",
    "fused_var_model_interaction.plot_partial_effects_on_outcome(covariates=['Gender','Status'],\n",
    "                                               values=[[0,'Historical'],[0,'Contemporary Dead'],[0,'Alive'],[1,'Historical'],[1,'Contemporary Dead'],[1,'Alive']],\n",
    "                                               color = ['blue','blue','blue','red','red', 'red'],\n",
    "                                                      \n",
    "                                               ax=ax[1]\n",
    "                                                       \n",
    "                                             \n",
    "                                              )\n",
    "ax[1].set_ylabel('Probability of Survival')\n",
    "ax[1].legend('',frameon=False)\n",
    "fig.text(0.3,0,'Days before Nomination', ha='left')\n",
    "\n",
    "fig.set_size_inches(width, height)\n",
    "fig.savefig('reports/figures/marginal_effect.png', bbox_inches='tight',dpi=200)\n"
   ]
  },
  {
   "cell_type": "code",
   "execution_count": null,
   "id": "83e320bc",
   "metadata": {},
   "outputs": [],
   "source": []
  },
  {
   "cell_type": "code",
   "execution_count": null,
   "id": "779ac338",
   "metadata": {},
   "outputs": [],
   "source": [
    "from scipy.stats.distributions import chi2\n",
    "def likelihood_ratio(llmin, llmax):\n",
    "    return(2*(llmax-llmin))\n",
    "\n",
    "L1 = 33195.48\n",
    "\n",
    "\n",
    "L2 = 33434.42\n",
    "\n",
    "\n",
    "LR = likelihood_ratio(L1,L2)\n",
    "\n",
    "\n",
    "p = chi2.sf(LR, 1) # L2 has 1 DoF more than L1\n",
    "\n",
    "print('p: %.30f' % p )\n",
    "\n",
    "# p: 0.000000121315450836607258011741"
   ]
  },
  {
   "cell_type": "code",
   "execution_count": null,
   "id": "51ff9e91",
   "metadata": {},
   "outputs": [],
   "source": []
  },
  {
   "cell_type": "markdown",
   "id": "50e28f5d",
   "metadata": {},
   "source": [
    "# Experiment with Decision"
   ]
  },
  {
   "cell_type": "code",
   "execution_count": null,
   "id": "6023cc74",
   "metadata": {},
   "outputs": [],
   "source": [
    "# data_for_compete_risk_nominated['event'].apply(lambda x:x.replace(\"<span style=\\\"color:red;\\\">\",\"\")\n",
    "#                                                .replace(\"</span>\",\"\")\n",
    "#                                                .replace(\"<font color=green>\",\"\")\n",
    "#                                                .replace(\"</font>\",\"\")\n",
    "#                                                .replace(\"<font color=red>\",\"\")\n",
    "#                                                .replace(\"<s>\",\"\")\n",
    "#                                                .replace(\"</s>\",\"\")                                          \n",
    "#                                                .replace(\".\",\"\")\n",
    "#                                                .replace(\":\",\"\")\n",
    "#                                                .replace(\",\",\"\")\n",
    "#                                                .replace(\"deleted\",\"delete\")\n",
    "#                                                .replace(\"deletion\",\"delete\")\n",
    "#                                                .replace(\"[[wpsoftdelete|\",\"\")\n",
    "#                                                .replace(\"delete]]\",\"delete\")\n",
    "#                                                .replace(\"kept\",\"keep\")\n",
    "#                                                .replace(\"redirected\",\"redirect\")\n",
    "#                                                .replace(\"speedily \",\"\")\n",
    "#                                                .replace(\"speedy \",\"\")\n",
    "#                                                .replace(\"soft \",\"\")\n",
    "#                                                .replace(\"weak \",\"\")\n",
    "#                                                .replace(\"snow \",\"\")\n",
    "#                                                .replace(\"strong \",\"\")\n",
    "#                                                .replace(\"boldly \",\"\")\n",
    "#                                                .replace(\"snowball \",\"\")\n",
    "#                                                .replace(\"unanimous \",\"\")\n",
    "#                                                .replace(\"[[wpsnow]] \",\"\")\n",
    "#                                                .replace(\"[[wpsnow|snow]] \",\"\")\n",
    "#                                                .replace(\"already \",\"\")\n",
    "#                                                .replace(\"procedural \",\"\")\n",
    "#                                                .replace(\"nomination \",\"\")\n",
    "#                                                .replace(\"nom \",\"\")\n",
    "#                                                .replace(\", withdrawn\",\"\")\n",
    "#                                                .replace(\" without prejudice\",\"\")\n",
    "#                                                .replace(\" (non-admin closure)\",\"\")\n",
    "#                                                .replace(\" to delete\",\"\")\n",
    "#                                                .replace(\" for delete\",\"\")\n",
    "#                                                .replace(\" (no consensus)\",\"\")\n",
    "#                                                .replace(\" and cleanup\",\"\")\n",
    "#                                                .replace(\" and salt\",\"\")\n",
    "#                                                .replace(\" by nominator\",\"\")\n",
    "#                                                .replace(\" by nom\",\"\")\n",
    "#                                                .replace(\", default to keep\",\"\")\n",
    "#                                                .replace(\"; default to keep\",\"\")\n",
    "#                                                .replace(\"; keep\",\"\")\n",
    "#                                                .replace(\"flagged as \",\"\")\n",
    "#                                                .replace(\" (withdrawn)\",\"\")\n",
    "#                                                .replace(\"/withdrawn\",\"\")\n",
    "#                                                .replace(\" all\",\"\")\n",
    "#                                                .replace(\" both\",\"\")\n",
    "#                                                .replace(\" (non-admin)\",\"\")                                          \n",
    "#                                                .replace(\"delete (a7)\",\"delete\")\n",
    "#                                                .replace(\"delete a7\",\"delete\")\n",
    "#                                                .replace(\"delete as copyvio\",\"delete\")\n",
    "#                                                .replace(\" per delete\",\"\")\n",
    "#                                                .replace(\"delete per delete\",\"delete\")\n",
    "#                                                .replace(\"a7\",\"delete\")\n",
    "#                                                .replace(\"copyvio\",\"delete\")\n",
    "#                                                .replace(\"speedied\",\"delete\")\n",
    "#                                                .replace(\"speedy\",\"delete\")\n",
    "#                                                .replace(\"delete delete\",\"delete\")\n",
    "#                                                .replace(\" delete\",\"delete\")\n",
    "#                                                .replace(\"delete perdelete\",\"delete\")\n",
    "#                                                .replace(\"delete -delete\",\"delete\")\n",
    "#                                                .replace(\"delete underdelete\",\"delete\")\n",
    "#                                                .replace(\"delete \",\"delete\")\n",
    "#                                                .replace(\"deletefor now\",\"delete\")\n",
    "#                                                .replace(\"delete-delete\",\"delete\")                                          \n",
    "#                                                .replace(\", no consensus\",\"\")\n",
    "#                                                .replace(\"<font color=blue>\",\"\")\n",
    "#                                                .replace(\" as non-notable\",\"\")\n",
    "#                                                .replace(\"/redirect\",\"\")\n",
    "#                                                .replace(\"no consensus default to keep\",\"keep\")\n",
    "#                                               .replace(\"no consensus keep\",\"keep\")\n",
    "#                                               .replace(\"no consensus defaulting to keep\",\"keep\")\n",
    "#                                               .replace(\"keep no consensus\",\"keep\")\n",
    "#                                               .replace(\"keep withdrawn\",\"keep\")\n",
    "#                                               .replace(\"close\",\"keep\")\n",
    "#                                               .replace(\"withdrawn\",\"keep\")\n",
    "#                                               .replace(\"keepd\",\"keep\")\n",
    "#                                               .replace(\"procedurally keep\",\"keep\")\n",
    "#                                               .replace(\"keep keep\",\"keep\")\n",
    "#                                               .replace(\"keep - keep\",\"keep\")\n",
    "#                                               .replace(\"keep and expand\",\"keep\")\n",
    "#                                                .replace(\"withdraw\",\"keep\")\n",
    "#                                                .replace(\"keep; keep\",\"keep\")\n",
    "#                                                .replace(\"not delete\",\"keep\")\n",
    "#                                                .replace(\" keep\",\"keep\")\n",
    "#                                                .replace(\"keep for now\",\"keep\")\n",
    "#                                                .replace(\"[[wpsnow|keep]]\",\"keep\")\n",
    "#                                                .replace(\"keep andkeep\",\"keep\")\n",
    "#                                                .replace(\"'keep\",\"keep\")\n",
    "#                                                .replace(\"keep per [[wpsnow]]\",\"keep\")\n",
    "#                                                .replace(\"nominatorkeep\",\"keep\")\n",
    "#                                                .replace(\"keep/keep\",\"keep\")\n",
    "#                                                .replace(\"move\",\"keep\")\n",
    "#                                                .replace(\"keep as moot\",\"keep\")\n",
    "#                                                .replace(\"[[wikipediakeep|keep]]\",\"keep\")\n",
    "#                                                .replace(\"[[wpsk|keep]]\",\"keep\")\n",
    "#                                                .replace(\"[[wpkeep]]\",\"keep\")\n",
    "#                                                .replace(\"moot\",\"keep\")\n",
    "#                                                .replace(\"notdelete\",\"keep\")\n",
    "#                                                .replace(\"keep and keep\",\"keep\")\n",
    "#                                                .replace(\"keepal\",\"keep\")\n",
    "#                                                .replace(\"keepd\",\"keep\")\n",
    "#                                                .replace(\"no consensus =keep\",\"keep\")\n",
    "#                                                .replace(\"[[wpsnow|snowball]]keep\",\"keep\")                                         \n",
    "#                                               .replace(\"delete and redirect\",\"redirect\")\n",
    "#                                               .replace(\"deleteand redirect\",\"redirect\")                                           \n",
    "#                                               .replace(\"merge and redirect\",\"merge\")\n",
    "#                                               .replace(\"merged\",\"merge\")                                           \n",
    "#                                               .replace(\"no concensus\",\"no consensus\")\n",
    "#                                               .replace(\" no consensus\",\"no consensus\")\n",
    "#                                               .replace(\"no-consensus\",\"no consensus\")                                           \n",
    "#                                               .replace(\"no opinion\",\"comment\")\n",
    "#                                               .replace(\"delete per delete\",\"delete\")\n",
    "#                                               .replace(\"deleteg7\",\"delete\")                                          \n",
    "#                                           )"
   ]
  },
  {
   "cell_type": "code",
   "execution_count": null,
   "id": "dc4fcf87",
   "metadata": {},
   "outputs": [],
   "source": []
  },
  {
   "cell_type": "markdown",
   "id": "c78b60f6",
   "metadata": {},
   "source": [
    "# Covariance over time(Multi-State-Model)"
   ]
  },
  {
   "cell_type": "code",
   "execution_count": 33,
   "id": "cad2eed9",
   "metadata": {},
   "outputs": [],
   "source": [
    "result_compete_risk_all = pd.read_csv('data/processed/data_for_compete_risk_all_iter_all_results3.csv', index_col=False)"
   ]
  },
  {
   "cell_type": "code",
   "execution_count": 34,
   "id": "432bd833",
   "metadata": {},
   "outputs": [],
   "source": [
    "result_compete_risk_all=result_compete_risk_all[result_compete_risk_all['action']!='remove']"
   ]
  },
  {
   "cell_type": "code",
   "execution_count": 8,
   "id": "612fe5fd",
   "metadata": {},
   "outputs": [],
   "source": []
  },
  {
   "cell_type": "code",
   "execution_count": 35,
   "id": "0f1cc580",
   "metadata": {},
   "outputs": [],
   "source": [
    "def plot_compete(action):\n",
    "    \n",
    "    plt.rc('font', family='serif', serif='Times')\n",
    "    plt.rc('xtick', labelsize=5.5)\n",
    "    plt.rc('ytick', labelsize=6)\n",
    "    plt.rc('axes', labelsize=6)\n",
    "\n",
    "    width = .72\n",
    "    height = 1.618 \n",
    "\n",
    "    coef_list=result_compete_risk_all[(result_compete_risk_all['action']==action)][['year','covariate','estimate']]\n",
    "    se_list=result_compete_risk_all[(result_compete_risk_all['action']==action)][['year','covariate','robust.se']]\n",
    "    max_limit_upper=coef_list['estimate'].max()\n",
    "    max_limit_upper = max_limit_upper + list(result_compete_risk_all[result_compete_risk_all['estimate']==max_limit_upper]['robust.se'])[0]\n",
    "    min_limit_upper=coef_list['estimate'].min()\n",
    "    min_limit_upper = min_limit_upper + list(result_compete_risk_all[result_compete_risk_all['estimate']==min_limit_upper]['robust.se'])[0]\n",
    "\n",
    "\n",
    "    Pvalue_list=result_compete_risk_all[(result_compete_risk_all['action']==action)][['year','covariate','p.value']]\n",
    "    alpha_plot=2\n",
    "    Pvalue_list['p.value2']=Pvalue_list['p.value'].apply(lambda x: 10 if x<0.05 else alpha_plot)\n",
    "\n",
    "    \n",
    "    fig, ax = plt.subplots()\n",
    "    fig.subplots_adjust(left=.18, bottom=.2, right=.99, top=.97)\n",
    "\n",
    "    \n",
    "    p=ax.errorbar(coef_list[coef_list['covariate']=='Historical']['year'],coef_list[coef_list['covariate']=='Historical']['estimate'], yerr=se_list[se_list['covariate']=='Historical']['robust.se'], alpha=.5, c= 'black', linestyle='dotted', linewidth=0.5)\n",
    "\n",
    "    for ii in range(len(coef_list['year'].unique())):\n",
    "        ax.scatter(coef_list[coef_list['covariate']=='Historical']['year'].iloc[ii],coef_list[coef_list['covariate']=='Historical']['estimate'].iloc[ii],label='Historical',marker='o', s=Pvalue_list[Pvalue_list['covariate']=='Historical']['p.value2'].iloc[ii],facecolors='none',edgecolors='#a6cee3') \n",
    "    \n",
    "    \n",
    "    p=ax.errorbar(coef_list[coef_list['covariate']=='Contemporary Dead']['year'],coef_list[coef_list['covariate']=='Contemporary Dead']['estimate'], yerr=se_list[se_list['covariate']=='Contemporary Dead']['robust.se'], alpha= 0.5, c= 'black', linestyle='dotted', linewidth=0.5)\n",
    "    for ii in range(len(coef_list['year'].unique())):\n",
    "        ax.scatter(coef_list[coef_list['covariate']=='Contemporary Dead']['year'].iloc[ii],coef_list[coef_list['covariate']=='Contemporary Dead']['estimate'].iloc[ii],label='Contemporary_Dead',marker='o', s=Pvalue_list[Pvalue_list['covariate']=='Contemporary Dead']['p.value2'].iloc[ii], facecolors='none', edgecolors='#b2df8a')\n",
    "\n",
    "    p=ax.errorbar(coef_list[coef_list['covariate']=='Gender:Contemporary Dead']['year'],coef_list[coef_list['covariate']=='Gender:Contemporary Dead']['estimate'], yerr=se_list[se_list['covariate']=='Gender:Contemporary Dead']['robust.se'], alpha= 0.5, c= 'black', linestyle='dotted', linewidth=0.5)\n",
    "    for ii in range(len(coef_list['year'].unique())):\n",
    "        ax.scatter(coef_list[coef_list['covariate']=='Gender:Contemporary Dead']['year'].iloc[ii],coef_list[coef_list['covariate']=='Gender:Contemporary Dead']['estimate'].iloc[ii],label='Gender:Contemporary Dead',marker='o', s=Pvalue_list[Pvalue_list['covariate']=='Gender:Contemporary Dead']['p.value2'].iloc[ii], facecolors='none', edgecolors='#33a02c')    \n",
    "    \n",
    "    p=ax.errorbar(coef_list[coef_list['covariate']=='Gender:Historical']['year'],coef_list[coef_list['covariate']=='Gender:Historical']['estimate'], yerr=se_list[se_list['covariate']=='Gender:Historical']['robust.se'], alpha= 0.5, c= 'black', linestyle='dotted', linewidth=0.5)\n",
    "    for ii in range(len(coef_list['year'].unique())):\n",
    "        ax.scatter(coef_list[coef_list['covariate']=='Gender:Historical']['year'].iloc[ii],coef_list[coef_list['covariate']=='Gender:Historical']['estimate'].iloc[ii],label='Gender:Historical',marker='o', s=Pvalue_list[Pvalue_list['covariate']=='Gender:Historical']['p.value2'].iloc[ii], facecolors='none', edgecolors='#1f78b4')    \n",
    "    \n",
    "    \n",
    "    p=ax.errorbar(coef_list[coef_list['covariate']=='Gender']['year'],coef_list[coef_list['covariate']=='Gender']['estimate'], yerr=se_list[se_list['covariate']=='Gender']['robust.se'], alpha= 0.5, c= 'black', linestyle='dotted', linewidth=0.5)\n",
    "    for ii in range(len(coef_list['year'].unique())):\n",
    "        ax.scatter(coef_list[coef_list['covariate']=='Gender']['year'].iloc[ii],coef_list[coef_list['covariate']=='Gender']['estimate'].iloc[ii],label='Gender',marker='o', s=Pvalue_list[Pvalue_list['covariate']=='Gender']['p.value2'].iloc[ii], facecolors='none', edgecolors='#fb9a99')    \n",
    "    \n",
    "    \n",
    "\n",
    "    labels = ['Gender','Historical','Gender $\\\\times$ \\n Historical','Cont. Dead','Gender $\\\\times$ \\n Cont. Dead']\n",
    "    colors=['#fb9a99','#a6cee3', '#1f78b4', '#b2df8a', '#33a02c' ] \n",
    "\n",
    "\n",
    "\n",
    "    if action == \"Delete\":\n",
    "        \n",
    "        leg=ax.legend(labels=labels,loc='best',fontsize=4.72, handletextpad=0.05)\n",
    "\n",
    "        for i, j in enumerate(leg.legendHandles):\n",
    "            j.set_color(colors[i])\n",
    "            j._sizes = [5]\n",
    "\n",
    "\n",
    "    \n",
    "   \n",
    "    \n",
    "    if action in ['Redirect','Merge']:\n",
    "        ax.annotate(r'Ends at $'+str(round(max_limit_upper,2))+'$', xy=(2005, 2.1), xytext=(2009, 1.5), fontsize=4, arrowprops=dict(facecolor='black', shrink=1, headlength=1, width=.005,headwidth=2), )\n",
    "        ax.annotate(r'Ends at $'+str(round(min_limit_upper,2))+'$', xy=(2005, -2), xytext=(2009, -1.8), fontsize=4, arrowprops=dict(facecolor='black', shrink=1, headlength=1, width=.005,headwidth=2), )\n",
    "\n",
    "        ax.set_ylim(-2.2,2.2)\n",
    "        \n",
    "        \n",
    "    \n",
    "    \n",
    "    \n",
    "\n",
    "    ax.plot(coef_list['year'].unique(),np.zeros(len(coef_list['year'].unique())), linestyle='dotted', color='black', alpha=.8, linewidth=0.9)\n",
    "    ax.set_xticks(coef_list['year'].unique().astype(int))\n",
    "    ax.set_xticklabels(ax.get_xticks(), rotation = 0)\n",
    "    ax.xaxis.set_major_locator(MultipleLocator(5))\n",
    "\n",
    "    # For the minor ticks, use no labels; default NullFormatter.\n",
    "    ax.xaxis.set_minor_locator(AutoMinorLocator())\n",
    "    ax.set_title('$\\\\^\\\\beta$ ('+action + ')', fontsize=8)   \n",
    "    ax.tick_params(direction='out', length=5, width=1)\n",
    "    ax.tick_params(which='major', pad=1)\n",
    "    \n",
    "    fig_dict={'Nominated':'Fig7a','Delete':'Fig7b','Keep':'Fig7c','Redirect':'Fig7d','Merge':'Fig7e'}    \n",
    "    fig.tight_layout()\n",
    "    \n",
    "    fig.set_size_inches(width, height)\n",
    "    fig.show()\n",
    "    fig.savefig('reports/figures/'+fig_dict[action]+'-decision_retrospective'+action+'.png', bbox_inches='tight',dpi=200)\n"
   ]
  },
  {
   "cell_type": "code",
   "execution_count": 40,
   "id": "84e08f09",
   "metadata": {},
   "outputs": [
    {
     "data": {
      "image/png": "[encoded data removed]",
      "text/plain": [
       "<Figure size 51.84x116.496 with 1 Axes>"
      ]
     },
     "metadata": {
      "needs_background": "light"
     },
     "output_type": "display_data"
    }
   ],
   "source": [
    "plot_compete('Nominated')"
   ]
  },
  {
   "cell_type": "code",
   "execution_count": 36,
   "id": "5c282d44",
   "metadata": {},
   "outputs": [
    {
     "data": {
      "image/png": "[encoded data removed]",
      "text/plain": [
       "<Figure size 51.84x116.496 with 1 Axes>"
      ]
     },
     "metadata": {
      "needs_background": "light"
     },
     "output_type": "display_data"
    }
   ],
   "source": [
    "plot_compete('Delete')"
   ]
  },
  {
   "cell_type": "code",
   "execution_count": 37,
   "id": "e6ae0cf6",
   "metadata": {},
   "outputs": [
    {
     "data": {
      "image/png": "[encoded data removed]",
      "text/plain": [
       "<Figure size 51.84x116.496 with 1 Axes>"
      ]
     },
     "metadata": {
      "needs_background": "light"
     },
     "output_type": "display_data"
    }
   ],
   "source": [
    "plot_compete('Keep')"
   ]
  },
  {
   "cell_type": "code",
   "execution_count": 38,
   "id": "6687398a",
   "metadata": {},
   "outputs": [
    {
     "data": {
      "image/png": "[encoded data removed]",
      "text/plain": [
       "<Figure size 51.84x116.496 with 1 Axes>"
      ]
     },
     "metadata": {
      "needs_background": "light"
     },
     "output_type": "display_data"
    }
   ],
   "source": [
    "plot_compete('Redirect')"
   ]
  },
  {
   "cell_type": "code",
   "execution_count": 39,
   "id": "e9b0b681",
   "metadata": {},
   "outputs": [
    {
     "data": {
      "image/png": "[encoded data removed]",
      "text/plain": [
       "<Figure size 51.84x116.496 with 1 Axes>"
      ]
     },
     "metadata": {
      "needs_background": "light"
     },
     "output_type": "display_data"
    }
   ],
   "source": [
    "plot_compete('Merge')"
   ]
  },
  {
   "cell_type": "code",
   "execution_count": null,
   "id": "0fce9146",
   "metadata": {},
   "outputs": [],
   "source": []
  },
  {
   "cell_type": "code",
   "execution_count": null,
   "id": "2d14b086",
   "metadata": {},
   "outputs": [],
   "source": []
  },
  {
   "cell_type": "markdown",
   "id": "cdba7183",
   "metadata": {},
   "source": [
    "# Study on the direction on Merge and Redirect"
   ]
  },
  {
   "cell_type": "markdown",
   "id": "4214eb41",
   "metadata": {},
   "source": [
    "# Permutation Test"
   ]
  },
  {
   "cell_type": "code",
   "execution_count": 25,
   "id": "1065c8a6",
   "metadata": {},
   "outputs": [],
   "source": [
    "data_redirect_decision2_all = pd.read_csv('data/raw/data_redirect_decision2_all.csv', index_col=False)\n",
    "data_merge_decision2_all = pd.read_csv('data/raw/data_merge_decision2_all.csv', index_col=False)\n",
    "\n",
    "data_redirect_decision2_all3=data_redirect_decision2_all[data_redirect_decision2_all['QID2']!='no data']\n",
    "data_merge_decision2_all3=data_merge_decision2_all[data_merge_decision2_all['QID2']!='no data']\n",
    "\n",
    "\n",
    "data_redirect_decision2_all3['Gender']= data_redirect_decision2_all3['Gender'].apply(lambda x: 'Men' if x==0 else 'Women')\n",
    "data_redirect_decision2_all3['instance of2']= data_redirect_decision2_all3.apply(lambda x: x['Gender2'] if x['instance of']=='human' else 'not human', axis=1)\n",
    "\n",
    "data_merge_decision2_all3['Gender']= data_merge_decision2_all3['Gender'].apply(lambda x: 'Men' if x==0 else 'Women')\n",
    "data_merge_decision2_all3['instance of2']= data_merge_decision2_all3.apply(lambda x: x['Gender2'] if x['instance of']=='human' else 'not human', axis=1)"
   ]
  },
  {
   "cell_type": "code",
   "execution_count": 27,
   "id": "d0348c1b",
   "metadata": {},
   "outputs": [],
   "source": [
    "def permutation_test_for_outcomes(data, option):\n",
    "\n",
    "    \n",
    "    men=data[data['Gender']=='Men'][['Gender','instance of2']]\n",
    "    men['Gender of Alter']=men['instance of2'].apply(lambda x: 'same' if x=='male' else('opposite' if x=='female' else 'non-bios'))\n",
    "    women=data[data['Gender']=='Women'][['Gender','instance of2']]\n",
    "    women['Gender of Alter']=women['instance of2'].apply(lambda x: 'same' if x=='female' else('opposite' if x=='male' else 'non-bios'))\n",
    "    biography_all= pd.concat([men.drop(columns=['instance of2']),women.drop(columns=['instance of2'])])\n",
    "\n",
    "    biography_all\n",
    "    contingency_table=pd.crosstab(biography_all['Gender'], biography_all['Gender of Alter'])\n",
    "    contingency_table = contingency_table.rename_axis(\"Group\", axis=\"index\")\n",
    "    table= contingency_table.div(contingency_table.sum(axis=1), axis=0)\n",
    "    print(table)\n",
    "\n",
    "    \n",
    "\n",
    "\n",
    "\n",
    "\n",
    "\n",
    "\n",
    "\n",
    "    n_permutations = 1000\n",
    "    perm_stats = []\n",
    "    alter_column = option + '_to2'\n",
    "    men_expected = []\n",
    "    women_expected = []\n",
    "    table3 =pd.DataFrame()\n",
    "\n",
    "\n",
    "    for _ in nb.tqdm(range(n_permutations)):\n",
    "\n",
    "        shuffled_data = data.copy()\n",
    "        shuffled_data_part = pd.DataFrame(np.random.permutation(data[[alter_column,'instance of2']]), columns=[alter_column,'instance of2'])\n",
    "        shuffled_data[alter_column]= shuffled_data_part[alter_column]\n",
    "        shuffled_data['instance of2']= shuffled_data_part['instance of2']\n",
    "        men=shuffled_data[shuffled_data['Gender']=='Men'][['Gender','instance of2']]\n",
    "        men['Gender of Alter']=men['instance of2'].apply(lambda x: 'same' if x=='male' else('opposite' if x=='female' else 'non-bios'))\n",
    "        women=shuffled_data[shuffled_data['Gender']=='Women'][['Gender','instance of2']]\n",
    "        women['Gender of Alter']=women['instance of2'].apply(lambda x: 'same' if x=='female' else('opposite' if x=='male' else 'non-bios'))\n",
    "        shuffled_data_biography= pd.concat([men.drop(columns=['instance of2']),women.drop(columns=['instance of2'])])\n",
    "        contingency_table=pd.crosstab(shuffled_data_biography['Gender'], shuffled_data_biography['Gender of Alter'])\n",
    "        contingency_table = contingency_table.rename_axis(\"Group\", axis=\"index\")\n",
    "        table2=contingency_table.div(contingency_table.sum(axis=1), axis=0)\n",
    "        table3=pd.concat([table3,table2])\n",
    "    \n",
    "   \n",
    "    means=table3.groupby('Group').mean()\n",
    "    stds=table3.groupby('Group').std()\n",
    "    print(means)\n",
    "    table3=table3.reset_index()\n",
    "    men_tab=table3[table3['Group']=='Men']\n",
    "    women_tab=table3[table3['Group']=='Women']\n",
    "    \n",
    "    return table,men_tab, women_tab\n",
    "\n",
    "    \n",
    "#     \n",
    "    "
   ]
  },
  {
   "cell_type": "code",
   "execution_count": 28,
   "id": "616d1e67",
   "metadata": {},
   "outputs": [
    {
     "name": "stdout",
     "output_type": "stream",
     "text": [
      "Gender of Alter  non-bios  opposite      same\n",
      "Group                                        \n",
      "Men              0.735579  0.013474  0.250947\n",
      "Women            0.708553  0.111932  0.179514\n"
     ]
    },
    {
     "data": {
      "application/vnd.jupyter.widget-view+json": {
       "model_id": "299562bf426c4fc99508d6d53d2bb18c",
       "version_major": 2,
       "version_minor": 0
      },
      "text/plain": [
       "  0%|          | 0/1000 [00:00<?, ?it/s]"
      ]
     },
     "metadata": {},
     "output_type": "display_data"
    },
    {
     "name": "stdout",
     "output_type": "stream",
     "text": [
      "Gender of Alter  non-bios  opposite      same\n",
      "Group                                        \n",
      "Men              0.772571  0.050787  0.176642\n",
      "Women            0.784074  0.167828  0.048098\n"
     ]
    }
   ],
   "source": [
    "table_re,men_tab_re, women_tab_re=permutation_test_for_outcomes(data_redirect_decision2_all3, 'redirect')"
   ]
  },
  {
   "cell_type": "code",
   "execution_count": 29,
   "id": "7888a63d",
   "metadata": {},
   "outputs": [
    {
     "name": "stdout",
     "output_type": "stream",
     "text": [
      "Gender of Alter  non-bios  opposite      same\n",
      "Group                                        \n",
      "Men              0.583765  0.017271  0.398964\n",
      "Women            0.458333  0.226852  0.314815\n"
     ]
    },
    {
     "data": {
      "application/vnd.jupyter.widget-view+json": {
       "model_id": "1249937c677a441fb28ad7fc77af0261",
       "version_major": 2,
       "version_minor": 0
      },
      "text/plain": [
       "  0%|          | 0/1000 [00:00<?, ?it/s]"
      ]
     },
     "metadata": {},
     "output_type": "display_data"
    },
    {
     "name": "stdout",
     "output_type": "stream",
     "text": [
      "Gender of Alter  non-bios  opposite      same\n",
      "Group                                        \n",
      "Men              0.664014  0.073124  0.262862\n",
      "Women            0.658093  0.267986  0.073921\n"
     ]
    }
   ],
   "source": [
    "table_me,men_tab_me, women_tab_me=permutation_test_for_outcomes(data_merge_decision2_all3, 'merge')"
   ]
  },
  {
   "cell_type": "code",
   "execution_count": 32,
   "id": "116c9211",
   "metadata": {},
   "outputs": [
    {
     "data": {
      "image/png": "[encoded data removed]",
      "text/plain": [
       "<Figure size 225x139.061 with 2 Axes>"
      ]
     },
     "metadata": {
      "needs_background": "light"
     },
     "output_type": "display_data"
    }
   ],
   "source": [
    "width = 3.125\n",
    "height = width / 1.618\n",
    "plt.rc('font', family='serif', serif='Times')\n",
    "plt.rc('xtick', labelsize=7)\n",
    "plt.rc('ytick', labelsize=6)\n",
    "plt.rc('axes', labelsize=8)\n",
    "# set width of bar \n",
    "barWidth = 0.6\n",
    "fig, ax = plt.subplots(nrows=1, ncols=2, sharex=True,sharey=True)\n",
    "\n",
    "ax[0]=table_re.T.plot(kind='bar', ax=ax[0], color=['blue','red'], width=barWidth, alpha=.8)\n",
    "xval= ax[0].get_xticks()\n",
    "\n",
    "men_tab_re.boxplot( color='black', positions=[xval[0]-barWidth/4,xval[1]-barWidth/4,xval[2]-barWidth/4],grid=False, ax=ax[0])\n",
    "women_tab_re.boxplot( color='black', positions=[xval[0]+barWidth/4,xval[1]+barWidth/4,xval[2]+barWidth/4],grid=False, ax=ax[0])\n",
    "ticks = table_re.columns\n",
    "ax[0].set_title(\"Redirect\", fontsize=10)\n",
    "ax[0].legend(fontsize=8)\n",
    "\n",
    "ax[1]=table_me.T.plot(kind='bar', ax=ax[1], color=['blue','red'], width=barWidth, alpha=.8)\n",
    "xval= ax[1].get_xticks()\n",
    "men_tab_me.boxplot( color='black', positions=[xval[0]-barWidth/4,xval[1]-barWidth/4,xval[2]-barWidth/4],grid=False, ax=ax[1])\n",
    "women_tab_me.boxplot( color='black', positions=[xval[0]+barWidth/4,xval[1]+barWidth/4,xval[2]+barWidth/4],grid=False, ax=ax[1])\n",
    "ticks = table_me.columns\n",
    "\n",
    "\n",
    "ax[1].set_title(\"Merge\", fontsize=10)\n",
    "ax[1].get_legend().remove()\n",
    "plt.xticks(xval,ticks)\n",
    "ax[0].set_ylabel('Fraction')\n",
    "fig.tight_layout()\n",
    "fig.set_size_inches(width, height)\n",
    "fig.savefig('reports/figures/Fig6-Direction_to_merge_and_redirect.png', dpi=200, bbox_inches='tight')\n",
    "fig.show()\n"
   ]
  },
  {
   "cell_type": "code",
   "execution_count": null,
   "id": "e75e0c9f",
   "metadata": {},
   "outputs": [],
   "source": []
  },
  {
   "cell_type": "code",
   "execution_count": null,
   "id": "ee89be6e",
   "metadata": {},
   "outputs": [],
   "source": []
  }
 ],
 "metadata": {
  "kernelspec": {
   "display_name": "Python 3",
   "language": "python",
   "name": "python3"
  },
  "language_info": {
   "codemirror_mode": {
    "name": "ipython",
    "version": 3
   },
   "file_extension": ".py",
   "mimetype": "text/x-python",
   "name": "python",
   "nbconvert_exporter": "python",
   "pygments_lexer": "ipython3",
   "version": "3.8.8"
  }
 },
 "nbformat": 4,
 "nbformat_minor": 5
}
