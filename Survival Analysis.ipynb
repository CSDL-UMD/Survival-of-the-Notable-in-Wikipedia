{
 "cells": [
  {
   "cell_type": "code",
   "execution_count": 1,
   "id": "88fdef56",
   "metadata": {},
   "outputs": [],
   "source": [
    "from lifelines import KaplanMeierFitter\n",
    "from lifelines import CoxPHFitter\n",
    "import pandas as pd\n",
    "import datetime\n",
    "from matplotlib import pyplot as plt\n",
    "\n",
    "import tqdm.notebook as nb\n",
    "import numpy as np\n",
    "from scipy.stats import chi2_contingency\n",
    "import matplotlib.ticker as mtick\n",
    "from matplotlib.ticker import AutoMinorLocator, MultipleLocator\n",
    "\n",
    "import warnings\n",
    "warnings.filterwarnings('ignore')"
   ]
  },
  {
   "cell_type": "code",
   "execution_count": 2,
   "id": "9ee11163",
   "metadata": {},
   "outputs": [],
   "source": [
    "plt.rc('font', family='serif', serif='Times')\n",
    "# plt.rc('text', usetex=True)\n",
    "plt.rc('xtick', labelsize=8)\n",
    "plt.rc('ytick', labelsize=8)\n",
    "plt.rc('axes', labelsize=10)\n",
    "\n",
    "# width as measured in inkscape\n",
    "width = 3.125\n",
    "height = width / 1.618"
   ]
  },
  {
   "cell_type": "markdown",
   "id": "af4fda13",
   "metadata": {},
   "source": [
    "# Probability of survival from nomination for deletion"
   ]
  },
  {
   "cell_type": "code",
   "execution_count": 3,
   "id": "9c11a0ed",
   "metadata": {},
   "outputs": [],
   "source": [
    "all_biographies2 = pd.read_csv('data/processed/all_biographies2.csv', index_col=False)"
   ]
  },
  {
   "cell_type": "code",
   "execution_count": 4,
   "id": "a95f66be",
   "metadata": {},
   "outputs": [
    {
     "data": {
      "text/plain": [
       "1975929"
      ]
     },
     "execution_count": 4,
     "metadata": {},
     "output_type": "execute_result"
    }
   ],
   "source": [
    "len(all_biographies2)"
   ]
  },
  {
   "cell_type": "code",
   "execution_count": 5,
   "id": "d4357bf0",
   "metadata": {},
   "outputs": [],
   "source": [
    "survival_data_male = all_biographies2[all_biographies2['gender']=='male']\n",
    "survival_data_female = all_biographies2[all_biographies2['gender']=='female']\n",
    "\n",
    "kmf_male = KaplanMeierFitter(label='Men')\n",
    "kmf_female = KaplanMeierFitter(label='Women')\n",
    "\n",
    "\n",
    "kmf_male = kmf_male.fit(durations=survival_data_male['days_before_nomination'], event_observed=survival_data_male['nominated'])\n",
    "kmf_female = kmf_female.fit(durations=survival_data_female['days_before_nomination'], event_observed=survival_data_female['nominated'])"
   ]
  },
  {
   "cell_type": "code",
   "execution_count": 6,
   "id": "c178a852",
   "metadata": {},
   "outputs": [
    {
     "data": {
      "image/png": "[encoded data removed]",
      "text/plain": [
       "<Figure size 225x139.061 with 1 Axes>"
      ]
     },
     "metadata": {
      "needs_background": "light"
     },
     "output_type": "display_data"
    }
   ],
   "source": [
    "fig, ax = plt.subplots()\n",
    "fig.subplots_adjust(left=.18, bottom=.2, right=.99, top=.97)\n",
    "\n",
    "kmf_male.plot(color='blue')\n",
    "kmf_female.plot(color='red')\n",
    "ax.set_xlabel('Days before Nomination')\n",
    "\n",
    "ax.set_ylabel('Probability of Survival')\n",
    "fig.set_size_inches(width, height)\n",
    "fig.savefig('reports/figures/Male_vs_Female_Survival.png', dpi=200)\n",
    "fig.show()"
   ]
  },
  {
   "cell_type": "code",
   "execution_count": null,
   "id": "0b218e08",
   "metadata": {},
   "outputs": [],
   "source": []
  },
  {
   "cell_type": "markdown",
   "id": "3893409e",
   "metadata": {},
   "source": [
    "# Cox regression analysis"
   ]
  },
  {
   "cell_type": "code",
   "execution_count": 7,
   "id": "79b1512b",
   "metadata": {},
   "outputs": [],
   "source": [
    "all_biographies2_with_data = pd.read_csv('data/processed/all_biographies2_with_data.csv', index_col=False)"
   ]
  },
  {
   "cell_type": "code",
   "execution_count": 8,
   "id": "0918a678",
   "metadata": {},
   "outputs": [
    {
     "data": {
      "text/html": [
       "<div>\n",
       "<style scoped>\n",
       "    .dataframe tbody tr th:only-of-type {\n",
       "        vertical-align: middle;\n",
       "    }\n",
       "\n",
       "    .dataframe tbody tr th {\n",
       "        vertical-align: top;\n",
       "    }\n",
       "\n",
       "    .dataframe thead th {\n",
       "        text-align: right;\n",
       "    }\n",
       "</style>\n",
       "<table border=\"1\" class=\"dataframe\">\n",
       "  <thead>\n",
       "    <tr style=\"text-align: right;\">\n",
       "      <th></th>\n",
       "      <th>page_title</th>\n",
       "      <th>creation_date_original2</th>\n",
       "      <th>rev_timestamp</th>\n",
       "      <th>Entry</th>\n",
       "      <th>QID</th>\n",
       "      <th>gender</th>\n",
       "      <th>date_of_birth</th>\n",
       "      <th>date_of_death</th>\n",
       "      <th>nominated</th>\n",
       "      <th>days_before_nomination</th>\n",
       "      <th>...</th>\n",
       "      <th>title</th>\n",
       "      <th>BLP</th>\n",
       "      <th>Entry2</th>\n",
       "      <th>Gender</th>\n",
       "      <th>birth</th>\n",
       "      <th>death</th>\n",
       "      <th>Alive</th>\n",
       "      <th>is_Historical</th>\n",
       "      <th>Status</th>\n",
       "      <th>Wikipedia_Age</th>\n",
       "    </tr>\n",
       "  </thead>\n",
       "  <tbody>\n",
       "    <tr>\n",
       "      <th>0</th>\n",
       "      <td>James_Brennan</td>\n",
       "      <td>20041116190813</td>\n",
       "      <td>20041116191644</td>\n",
       "      <td>James Brennan</td>\n",
       "      <td>Q6130205</td>\n",
       "      <td>male</td>\n",
       "      <td>1837-02-25T00:00:00Z</td>\n",
       "      <td>1917-06-13T00:00:00Z</td>\n",
       "      <td>1</td>\n",
       "      <td>0.005914</td>\n",
       "      <td>...</td>\n",
       "      <td>NaN</td>\n",
       "      <td>0</td>\n",
       "      <td>James_Brennan</td>\n",
       "      <td>0.0</td>\n",
       "      <td>1837</td>\n",
       "      <td>1917</td>\n",
       "      <td>0</td>\n",
       "      <td>1.0</td>\n",
       "      <td>Historical</td>\n",
       "      <td>4</td>\n",
       "    </tr>\n",
       "    <tr>\n",
       "      <th>1</th>\n",
       "      <td>Paul_Holt</td>\n",
       "      <td>20041127125516</td>\n",
       "      <td>20041127142834</td>\n",
       "      <td>Paul Holt</td>\n",
       "      <td>Q12331079</td>\n",
       "      <td>male</td>\n",
       "      <td>1900</td>\n",
       "      <td>1980-11-16</td>\n",
       "      <td>1</td>\n",
       "      <td>0.064792</td>\n",
       "      <td>...</td>\n",
       "      <td>NaN</td>\n",
       "      <td>0</td>\n",
       "      <td>Paul_Holt</td>\n",
       "      <td>0.0</td>\n",
       "      <td>1900</td>\n",
       "      <td>1980</td>\n",
       "      <td>0</td>\n",
       "      <td>1.0</td>\n",
       "      <td>Historical</td>\n",
       "      <td>4</td>\n",
       "    </tr>\n",
       "    <tr>\n",
       "      <th>2</th>\n",
       "      <td>Lewis_B._Schwellenbach</td>\n",
       "      <td>20041225045531</td>\n",
       "      <td>20041225060911</td>\n",
       "      <td>Lewis B. Schwellenbach</td>\n",
       "      <td>Q1767521</td>\n",
       "      <td>male</td>\n",
       "      <td>1894-09-20T00:00:00Z</td>\n",
       "      <td>1948-06-10T00:00:00Z</td>\n",
       "      <td>1</td>\n",
       "      <td>0.051157</td>\n",
       "      <td>...</td>\n",
       "      <td>NaN</td>\n",
       "      <td>0</td>\n",
       "      <td>Lewis_B._Schwellenbach</td>\n",
       "      <td>0.0</td>\n",
       "      <td>1894</td>\n",
       "      <td>1948</td>\n",
       "      <td>0</td>\n",
       "      <td>1.0</td>\n",
       "      <td>Historical</td>\n",
       "      <td>4</td>\n",
       "    </tr>\n",
       "    <tr>\n",
       "      <th>3</th>\n",
       "      <td>James_Longstreet</td>\n",
       "      <td>20020418133700</td>\n",
       "      <td>20050306062831</td>\n",
       "      <td>James Longstreet</td>\n",
       "      <td>Q105362228</td>\n",
       "      <td>male</td>\n",
       "      <td>1821-01-08T00:00:00Z</td>\n",
       "      <td>1904-01-02T00:00:00Z</td>\n",
       "      <td>1</td>\n",
       "      <td>1052.702442</td>\n",
       "      <td>...</td>\n",
       "      <td>NaN</td>\n",
       "      <td>0</td>\n",
       "      <td>James_Longstreet</td>\n",
       "      <td>0.0</td>\n",
       "      <td>1821</td>\n",
       "      <td>1904</td>\n",
       "      <td>0</td>\n",
       "      <td>1.0</td>\n",
       "      <td>Historical</td>\n",
       "      <td>2</td>\n",
       "    </tr>\n",
       "    <tr>\n",
       "      <th>4</th>\n",
       "      <td>Michael_Donohoe</td>\n",
       "      <td>20050401175247</td>\n",
       "      <td>20050414033806</td>\n",
       "      <td>Michael Donohoe</td>\n",
       "      <td>Q6829914</td>\n",
       "      <td>male</td>\n",
       "      <td>1864-02-22T00:00:00Z</td>\n",
       "      <td>1958-01-17T00:00:00Z</td>\n",
       "      <td>1</td>\n",
       "      <td>12.406470</td>\n",
       "      <td>...</td>\n",
       "      <td>NaN</td>\n",
       "      <td>0</td>\n",
       "      <td>Michael_Donohoe</td>\n",
       "      <td>0.0</td>\n",
       "      <td>1864</td>\n",
       "      <td>1958</td>\n",
       "      <td>0</td>\n",
       "      <td>1.0</td>\n",
       "      <td>Historical</td>\n",
       "      <td>5</td>\n",
       "    </tr>\n",
       "  </tbody>\n",
       "</table>\n",
       "<p>5 rows × 22 columns</p>\n",
       "</div>"
      ],
      "text/plain": [
       "               page_title  creation_date_original2   rev_timestamp  \\\n",
       "0           James_Brennan           20041116190813  20041116191644   \n",
       "1               Paul_Holt           20041127125516  20041127142834   \n",
       "2  Lewis_B._Schwellenbach           20041225045531  20041225060911   \n",
       "3        James_Longstreet           20020418133700  20050306062831   \n",
       "4         Michael_Donohoe           20050401175247  20050414033806   \n",
       "\n",
       "                    Entry         QID gender         date_of_birth  \\\n",
       "0           James Brennan    Q6130205   male  1837-02-25T00:00:00Z   \n",
       "1               Paul Holt   Q12331079   male                  1900   \n",
       "2  Lewis B. Schwellenbach    Q1767521   male  1894-09-20T00:00:00Z   \n",
       "3        James Longstreet  Q105362228   male  1821-01-08T00:00:00Z   \n",
       "4         Michael Donohoe    Q6829914   male  1864-02-22T00:00:00Z   \n",
       "\n",
       "          date_of_death  nominated  days_before_nomination  ... title BLP  \\\n",
       "0  1917-06-13T00:00:00Z          1                0.005914  ...   NaN   0   \n",
       "1            1980-11-16          1                0.064792  ...   NaN   0   \n",
       "2  1948-06-10T00:00:00Z          1                0.051157  ...   NaN   0   \n",
       "3  1904-01-02T00:00:00Z          1             1052.702442  ...   NaN   0   \n",
       "4  1958-01-17T00:00:00Z          1               12.406470  ...   NaN   0   \n",
       "\n",
       "                   Entry2  Gender birth  death Alive is_Historical  \\\n",
       "0           James_Brennan     0.0  1837   1917     0           1.0   \n",
       "1               Paul_Holt     0.0  1900   1980     0           1.0   \n",
       "2  Lewis_B._Schwellenbach     0.0  1894   1948     0           1.0   \n",
       "3        James_Longstreet     0.0  1821   1904     0           1.0   \n",
       "4         Michael_Donohoe     0.0  1864   1958     0           1.0   \n",
       "\n",
       "       Status  Wikipedia_Age  \n",
       "0  Historical              4  \n",
       "1  Historical              4  \n",
       "2  Historical              4  \n",
       "3  Historical              2  \n",
       "4  Historical              5  \n",
       "\n",
       "[5 rows x 22 columns]"
      ]
     },
     "execution_count": 8,
     "metadata": {},
     "output_type": "execute_result"
    }
   ],
   "source": [
    "all_biographies2_with_data.head()"
   ]
  },
  {
   "cell_type": "code",
   "execution_count": 9,
   "id": "a0d5d738",
   "metadata": {},
   "outputs": [
    {
     "data": {
      "text/plain": [
       "<lifelines.CoxPHFitter: fitted with 1.97586e+06 total observations, 1.89107e+06 right-censored observations>"
      ]
     },
     "execution_count": 9,
     "metadata": {},
     "output_type": "execute_result"
    }
   ],
   "source": [
    "fused_var_model = CoxPHFitter()\n",
    "fused_var_model.fit(all_biographies2_with_data[['days_before_nomination','nominated','Gender', 'Wikipedia_Age','Status']].sample(frac=1), duration_col='days_before_nomination', event_col='nominated', formula=\"Gender + Wikipedia_Age + Status\")\n",
    "\n",
    "fused_var_model_interaction = CoxPHFitter()\n",
    "fused_var_model_interaction.fit(all_biographies2_with_data[['days_before_nomination','nominated','Gender', 'Wikipedia_Age','Status']].sample(frac=1), duration_col='days_before_nomination', event_col='nominated', formula=\"Gender + Wikipedia_Age + Status + Gender*Status\")\n"
   ]
  },
  {
   "cell_type": "code",
   "execution_count": 10,
   "id": "c090ede9",
   "metadata": {},
   "outputs": [
    {
     "data": {
      "image/png": "[encoded data removed]",
      "text/plain": [
       "<Figure size 225x139.061 with 1 Axes>"
      ]
     },
     "metadata": {
      "needs_background": "light"
     },
     "output_type": "display_data"
    }
   ],
   "source": [
    "fig, ax = plt.subplots()\n",
    "fig.subplots_adjust(left=.58, bottom=.2, right=.99, top=.97)\n",
    "\n",
    "fused_var_model.plot(ax=ax)\n",
    "ax.set_xlim((-3,1))\n",
    "\n",
    "fig.set_size_inches(width, height)\n",
    "\n",
    "fig.savefig('reports/figures/Cox_prop_model.png', dpi=200)\n"
   ]
  },
  {
   "cell_type": "code",
   "execution_count": 11,
   "id": "c78fd1a8",
   "metadata": {},
   "outputs": [
    {
     "data": {
      "image/png": "[encoded data removed]",
      "text/plain": [
       "<Figure size 225x139.061 with 1 Axes>"
      ]
     },
     "metadata": {
      "needs_background": "light"
     },
     "output_type": "display_data"
    }
   ],
   "source": [
    "fig, ax = plt.subplots()\n",
    "fig.subplots_adjust(left=.58, bottom=.2, right=.99, top=.97)\n",
    "\n",
    "fused_var_model_interaction.plot(ax=ax)\n",
    "ax.set_xlim((-3,1))\n",
    "\n",
    "fig.set_size_inches(width, height)\n",
    "fig.savefig('reports/figures/Cox_prop_model_interaction.png', dpi=200)\n"
   ]
  },
  {
   "cell_type": "code",
   "execution_count": 12,
   "id": "3ad841e9",
   "metadata": {},
   "outputs": [
    {
     "ename": "TypeError",
     "evalue": "format() got an unexpected keyword argument 'precision'",
     "output_type": "error",
     "traceback": [
      "\u001b[0;31m---------------------------------------------------------------------------\u001b[0m",
      "\u001b[0;31mTypeError\u001b[0m                                 Traceback (most recent call last)",
      "\u001b[0;32m~/opt/anaconda3/lib/python3.8/site-packages/IPython/core/formatters.py\u001b[0m in \u001b[0;36m__call__\u001b[0;34m(self, obj)\u001b[0m\n\u001b[1;32m    343\u001b[0m             \u001b[0mmethod\u001b[0m \u001b[0;34m=\u001b[0m \u001b[0mget_real_method\u001b[0m\u001b[0;34m(\u001b[0m\u001b[0mobj\u001b[0m\u001b[0;34m,\u001b[0m \u001b[0mself\u001b[0m\u001b[0;34m.\u001b[0m\u001b[0mprint_method\u001b[0m\u001b[0;34m)\u001b[0m\u001b[0;34m\u001b[0m\u001b[0;34m\u001b[0m\u001b[0m\n\u001b[1;32m    344\u001b[0m             \u001b[0;32mif\u001b[0m \u001b[0mmethod\u001b[0m \u001b[0;32mis\u001b[0m \u001b[0;32mnot\u001b[0m \u001b[0;32mNone\u001b[0m\u001b[0;34m:\u001b[0m\u001b[0;34m\u001b[0m\u001b[0;34m\u001b[0m\u001b[0m\n\u001b[0;32m--> 345\u001b[0;31m                 \u001b[0;32mreturn\u001b[0m \u001b[0mmethod\u001b[0m\u001b[0;34m(\u001b[0m\u001b[0;34m)\u001b[0m\u001b[0;34m\u001b[0m\u001b[0;34m\u001b[0m\u001b[0m\n\u001b[0m\u001b[1;32m    346\u001b[0m             \u001b[0;32mreturn\u001b[0m \u001b[0;32mNone\u001b[0m\u001b[0;34m\u001b[0m\u001b[0;34m\u001b[0m\u001b[0m\n\u001b[1;32m    347\u001b[0m         \u001b[0;32melse\u001b[0m\u001b[0;34m:\u001b[0m\u001b[0;34m\u001b[0m\u001b[0;34m\u001b[0m\u001b[0m\n",
      "\u001b[0;32m~/opt/anaconda3/lib/python3.8/site-packages/lifelines/utils/printer.py\u001b[0m in \u001b[0;36m_repr_latex_\u001b[0;34m(self)\u001b[0m\n\u001b[1;32m    183\u001b[0m         \u001b[0mself\u001b[0m\u001b[0;34m,\u001b[0m\u001b[0;34m\u001b[0m\u001b[0;34m\u001b[0m\u001b[0m\n\u001b[1;32m    184\u001b[0m     ):\n\u001b[0;32m--> 185\u001b[0;31m         \u001b[0;32mreturn\u001b[0m \u001b[0mself\u001b[0m\u001b[0;34m.\u001b[0m\u001b[0mto_latex\u001b[0m\u001b[0;34m(\u001b[0m\u001b[0;34m)\u001b[0m\u001b[0;34m\u001b[0m\u001b[0;34m\u001b[0m\u001b[0m\n\u001b[0m\u001b[1;32m    186\u001b[0m \u001b[0;34m\u001b[0m\u001b[0m\n\u001b[1;32m    187\u001b[0m     \u001b[0;32mdef\u001b[0m \u001b[0m_repr_html_\u001b[0m\u001b[0;34m(\u001b[0m\u001b[0mself\u001b[0m\u001b[0;34m)\u001b[0m\u001b[0;34m:\u001b[0m\u001b[0;34m\u001b[0m\u001b[0;34m\u001b[0m\u001b[0m\n",
      "\u001b[0;32m~/opt/anaconda3/lib/python3.8/site-packages/lifelines/utils/printer.py\u001b[0m in \u001b[0;36mto_latex\u001b[0;34m(self)\u001b[0m\n\u001b[1;32m     61\u001b[0m             \u001b[0mcolumns\u001b[0m \u001b[0;34m=\u001b[0m \u001b[0msummary_df\u001b[0m\u001b[0;34m.\u001b[0m\u001b[0mcolumns\u001b[0m\u001b[0;34m.\u001b[0m\u001b[0mintersection\u001b[0m\u001b[0;34m(\u001b[0m\u001b[0mself\u001b[0m\u001b[0;34m.\u001b[0m\u001b[0mcolumns\u001b[0m\u001b[0;34m)\u001b[0m\u001b[0;34m\u001b[0m\u001b[0;34m\u001b[0m\u001b[0m\n\u001b[1;32m     62\u001b[0m         \u001b[0ms\u001b[0m \u001b[0;34m=\u001b[0m \u001b[0msummary_df\u001b[0m\u001b[0;34m[\u001b[0m\u001b[0mcolumns\u001b[0m\u001b[0;34m]\u001b[0m\u001b[0;34m.\u001b[0m\u001b[0mstyle\u001b[0m\u001b[0;34m\u001b[0m\u001b[0;34m\u001b[0m\u001b[0m\n\u001b[0;32m---> 63\u001b[0;31m         \u001b[0ms\u001b[0m \u001b[0;34m=\u001b[0m \u001b[0ms\u001b[0m\u001b[0;34m.\u001b[0m\u001b[0mformat\u001b[0m\u001b[0;34m(\u001b[0m\u001b[0mprecision\u001b[0m\u001b[0;34m=\u001b[0m\u001b[0mself\u001b[0m\u001b[0;34m.\u001b[0m\u001b[0mdecimals\u001b[0m\u001b[0;34m)\u001b[0m\u001b[0;34m\u001b[0m\u001b[0;34m\u001b[0m\u001b[0m\n\u001b[0m\u001b[1;32m     64\u001b[0m         \u001b[0;32mreturn\u001b[0m \u001b[0ms\u001b[0m\u001b[0;34m.\u001b[0m\u001b[0mto_latex\u001b[0m\u001b[0;34m(\u001b[0m\u001b[0;34m)\u001b[0m\u001b[0;34m\u001b[0m\u001b[0;34m\u001b[0m\u001b[0m\n\u001b[1;32m     65\u001b[0m \u001b[0;34m\u001b[0m\u001b[0m\n",
      "\u001b[0;31mTypeError\u001b[0m: format() got an unexpected keyword argument 'precision'"
     ]
    },
    {
     "data": {
      "text/html": [
       "<div>\n",
       "<style scoped>\n",
       "    .dataframe tbody tr th:only-of-type {\n",
       "        vertical-align: middle;\n",
       "    }\n",
       "\n",
       "    .dataframe tbody tr th {\n",
       "        vertical-align: top;\n",
       "    }\n",
       "\n",
       "    .dataframe thead th {\n",
       "        text-align: right;\n",
       "    }\n",
       "</style>\n",
       "<table border=\"1\" class=\"dataframe\">\n",
       "  <tbody>\n",
       "    <tr>\n",
       "      <th>model</th>\n",
       "      <td>lifelines.CoxPHFitter</td>\n",
       "    </tr>\n",
       "    <tr>\n",
       "      <th>duration col</th>\n",
       "      <td>'days_before_nomination'</td>\n",
       "    </tr>\n",
       "    <tr>\n",
       "      <th>event col</th>\n",
       "      <td>'nominated'</td>\n",
       "    </tr>\n",
       "    <tr>\n",
       "      <th>baseline estimation</th>\n",
       "      <td>breslow</td>\n",
       "    </tr>\n",
       "    <tr>\n",
       "      <th>number of observations</th>\n",
       "      <td>1.97586e+06</td>\n",
       "    </tr>\n",
       "    <tr>\n",
       "      <th>number of events observed</th>\n",
       "      <td>84792</td>\n",
       "    </tr>\n",
       "    <tr>\n",
       "      <th>partial log-likelihood</th>\n",
       "      <td>-1193035.17</td>\n",
       "    </tr>\n",
       "    <tr>\n",
       "      <th>time fit was run</th>\n",
       "      <td>2025-04-21 21:46:56 UTC</td>\n",
       "    </tr>\n",
       "  </tbody>\n",
       "</table>\n",
       "</div><table border=\"1\" class=\"dataframe\">\n",
       "  <thead>\n",
       "    <tr style=\"text-align: right;\">\n",
       "      <th style=\"min-width: 12px;\"></th>\n",
       "      <th style=\"min-width: 12px;\">coef</th>\n",
       "      <th style=\"min-width: 12px;\">exp(coef)</th>\n",
       "      <th style=\"min-width: 12px;\">se(coef)</th>\n",
       "      <th style=\"min-width: 12px;\">coef lower 95%</th>\n",
       "      <th style=\"min-width: 12px;\">coef upper 95%</th>\n",
       "      <th style=\"min-width: 12px;\">exp(coef) lower 95%</th>\n",
       "      <th style=\"min-width: 12px;\">exp(coef) upper 95%</th>\n",
       "      <th style=\"min-width: 12px;\">cmp to</th>\n",
       "      <th style=\"min-width: 12px;\">z</th>\n",
       "      <th style=\"min-width: 12px;\">p</th>\n",
       "      <th style=\"min-width: 12px;\">-log2(p)</th>\n",
       "    </tr>\n",
       "  </thead>\n",
       "  <tbody>\n",
       "    <tr>\n",
       "      <th>Gender</th>\n",
       "      <td>0.26</td>\n",
       "      <td>1.30</td>\n",
       "      <td>0.01</td>\n",
       "      <td>0.25</td>\n",
       "      <td>0.28</td>\n",
       "      <td>1.28</td>\n",
       "      <td>1.32</td>\n",
       "      <td>0.00</td>\n",
       "      <td>33.06</td>\n",
       "      <td>&lt;0.005</td>\n",
       "      <td>793.95</td>\n",
       "    </tr>\n",
       "    <tr>\n",
       "      <th>Wikipedia_Age</th>\n",
       "      <td>-0.03</td>\n",
       "      <td>0.97</td>\n",
       "      <td>0.00</td>\n",
       "      <td>-0.03</td>\n",
       "      <td>-0.03</td>\n",
       "      <td>0.97</td>\n",
       "      <td>0.97</td>\n",
       "      <td>0.00</td>\n",
       "      <td>-44.93</td>\n",
       "      <td>&lt;0.005</td>\n",
       "      <td>inf</td>\n",
       "    </tr>\n",
       "    <tr>\n",
       "      <th>Status[T.Contemporary Dead]</th>\n",
       "      <td>-1.13</td>\n",
       "      <td>0.32</td>\n",
       "      <td>0.01</td>\n",
       "      <td>-1.16</td>\n",
       "      <td>-1.11</td>\n",
       "      <td>0.31</td>\n",
       "      <td>0.33</td>\n",
       "      <td>0.00</td>\n",
       "      <td>-91.72</td>\n",
       "      <td>&lt;0.005</td>\n",
       "      <td>inf</td>\n",
       "    </tr>\n",
       "    <tr>\n",
       "      <th>Status[T.Historical]</th>\n",
       "      <td>-1.55</td>\n",
       "      <td>0.21</td>\n",
       "      <td>0.01</td>\n",
       "      <td>-1.57</td>\n",
       "      <td>-1.52</td>\n",
       "      <td>0.21</td>\n",
       "      <td>0.22</td>\n",
       "      <td>0.00</td>\n",
       "      <td>-128.85</td>\n",
       "      <td>&lt;0.005</td>\n",
       "      <td>inf</td>\n",
       "    </tr>\n",
       "  </tbody>\n",
       "</table><br><div>\n",
       "<style scoped>\n",
       "    .dataframe tbody tr th:only-of-type {\n",
       "        vertical-align: middle;\n",
       "    }\n",
       "\n",
       "    .dataframe tbody tr th {\n",
       "        vertical-align: top;\n",
       "    }\n",
       "\n",
       "    .dataframe thead th {\n",
       "        text-align: right;\n",
       "    }\n",
       "</style>\n",
       "<table border=\"1\" class=\"dataframe\">\n",
       "  <tbody>\n",
       "    <tr>\n",
       "      <th>Concordance</th>\n",
       "      <td>0.67</td>\n",
       "    </tr>\n",
       "    <tr>\n",
       "      <th>Partial AIC</th>\n",
       "      <td>2386078.34</td>\n",
       "    </tr>\n",
       "    <tr>\n",
       "      <th>log-likelihood ratio test</th>\n",
       "      <td>33193.90 on 4 df</td>\n",
       "    </tr>\n",
       "    <tr>\n",
       "      <th>-log2(p) of ll-ratio test</th>\n",
       "      <td>inf</td>\n",
       "    </tr>\n",
       "  </tbody>\n",
       "</table>\n",
       "</div>"
      ],
      "text/plain": [
       "<lifelines.CoxPHFitter: fitted with 1.97586e+06 total observations, 1.89107e+06 right-censored observations>\n",
       "             duration col = 'days_before_nomination'\n",
       "                event col = 'nominated'\n",
       "      baseline estimation = breslow\n",
       "   number of observations = 1.97586e+06\n",
       "number of events observed = 84792\n",
       "   partial log-likelihood = -1193035.17\n",
       "         time fit was run = 2025-04-21 21:46:56 UTC\n",
       "\n",
       "---\n",
       "                              coef  exp(coef)   se(coef)   coef lower 95%   coef upper 95%  exp(coef) lower 95%  exp(coef) upper 95%\n",
       "covariate                                                                                                                           \n",
       "Gender                        0.26       1.30       0.01             0.25             0.28                 1.28                 1.32\n",
       "Wikipedia_Age                -0.03       0.97       0.00            -0.03            -0.03                 0.97                 0.97\n",
       "Status[T.Contemporary Dead]  -1.13       0.32       0.01            -1.16            -1.11                 0.31                 0.33\n",
       "Status[T.Historical]         -1.55       0.21       0.01            -1.57            -1.52                 0.21                 0.22\n",
       "\n",
       "                              cmp to       z      p   -log2(p)\n",
       "covariate                                                     \n",
       "Gender                          0.00   33.06 <0.005     793.95\n",
       "Wikipedia_Age                   0.00  -44.93 <0.005        inf\n",
       "Status[T.Contemporary Dead]     0.00  -91.72 <0.005        inf\n",
       "Status[T.Historical]            0.00 -128.85 <0.005        inf\n",
       "---\n",
       "Concordance = 0.67\n",
       "Partial AIC = 2386078.34\n",
       "log-likelihood ratio test = 33193.90 on 4 df\n",
       "-log2(p) of ll-ratio test = inf"
      ]
     },
     "metadata": {},
     "output_type": "display_data"
    }
   ],
   "source": [
    "fused_var_model.print_summary()"
   ]
  },
  {
   "cell_type": "code",
   "execution_count": 13,
   "id": "48a45d6b",
   "metadata": {},
   "outputs": [
    {
     "ename": "TypeError",
     "evalue": "format() got an unexpected keyword argument 'precision'",
     "output_type": "error",
     "traceback": [
      "\u001b[0;31m---------------------------------------------------------------------------\u001b[0m",
      "\u001b[0;31mTypeError\u001b[0m                                 Traceback (most recent call last)",
      "\u001b[0;32m~/opt/anaconda3/lib/python3.8/site-packages/IPython/core/formatters.py\u001b[0m in \u001b[0;36m__call__\u001b[0;34m(self, obj)\u001b[0m\n\u001b[1;32m    343\u001b[0m             \u001b[0mmethod\u001b[0m \u001b[0;34m=\u001b[0m \u001b[0mget_real_method\u001b[0m\u001b[0;34m(\u001b[0m\u001b[0mobj\u001b[0m\u001b[0;34m,\u001b[0m \u001b[0mself\u001b[0m\u001b[0;34m.\u001b[0m\u001b[0mprint_method\u001b[0m\u001b[0;34m)\u001b[0m\u001b[0;34m\u001b[0m\u001b[0;34m\u001b[0m\u001b[0m\n\u001b[1;32m    344\u001b[0m             \u001b[0;32mif\u001b[0m \u001b[0mmethod\u001b[0m \u001b[0;32mis\u001b[0m \u001b[0;32mnot\u001b[0m \u001b[0;32mNone\u001b[0m\u001b[0;34m:\u001b[0m\u001b[0;34m\u001b[0m\u001b[0;34m\u001b[0m\u001b[0m\n\u001b[0;32m--> 345\u001b[0;31m                 \u001b[0;32mreturn\u001b[0m \u001b[0mmethod\u001b[0m\u001b[0;34m(\u001b[0m\u001b[0;34m)\u001b[0m\u001b[0;34m\u001b[0m\u001b[0;34m\u001b[0m\u001b[0m\n\u001b[0m\u001b[1;32m    346\u001b[0m             \u001b[0;32mreturn\u001b[0m \u001b[0;32mNone\u001b[0m\u001b[0;34m\u001b[0m\u001b[0;34m\u001b[0m\u001b[0m\n\u001b[1;32m    347\u001b[0m         \u001b[0;32melse\u001b[0m\u001b[0;34m:\u001b[0m\u001b[0;34m\u001b[0m\u001b[0;34m\u001b[0m\u001b[0m\n",
      "\u001b[0;32m~/opt/anaconda3/lib/python3.8/site-packages/lifelines/utils/printer.py\u001b[0m in \u001b[0;36m_repr_latex_\u001b[0;34m(self)\u001b[0m\n\u001b[1;32m    183\u001b[0m         \u001b[0mself\u001b[0m\u001b[0;34m,\u001b[0m\u001b[0;34m\u001b[0m\u001b[0;34m\u001b[0m\u001b[0m\n\u001b[1;32m    184\u001b[0m     ):\n\u001b[0;32m--> 185\u001b[0;31m         \u001b[0;32mreturn\u001b[0m \u001b[0mself\u001b[0m\u001b[0;34m.\u001b[0m\u001b[0mto_latex\u001b[0m\u001b[0;34m(\u001b[0m\u001b[0;34m)\u001b[0m\u001b[0;34m\u001b[0m\u001b[0;34m\u001b[0m\u001b[0m\n\u001b[0m\u001b[1;32m    186\u001b[0m \u001b[0;34m\u001b[0m\u001b[0m\n\u001b[1;32m    187\u001b[0m     \u001b[0;32mdef\u001b[0m \u001b[0m_repr_html_\u001b[0m\u001b[0;34m(\u001b[0m\u001b[0mself\u001b[0m\u001b[0;34m)\u001b[0m\u001b[0;34m:\u001b[0m\u001b[0;34m\u001b[0m\u001b[0;34m\u001b[0m\u001b[0m\n",
      "\u001b[0;32m~/opt/anaconda3/lib/python3.8/site-packages/lifelines/utils/printer.py\u001b[0m in \u001b[0;36mto_latex\u001b[0;34m(self)\u001b[0m\n\u001b[1;32m     61\u001b[0m             \u001b[0mcolumns\u001b[0m \u001b[0;34m=\u001b[0m \u001b[0msummary_df\u001b[0m\u001b[0;34m.\u001b[0m\u001b[0mcolumns\u001b[0m\u001b[0;34m.\u001b[0m\u001b[0mintersection\u001b[0m\u001b[0;34m(\u001b[0m\u001b[0mself\u001b[0m\u001b[0;34m.\u001b[0m\u001b[0mcolumns\u001b[0m\u001b[0;34m)\u001b[0m\u001b[0;34m\u001b[0m\u001b[0;34m\u001b[0m\u001b[0m\n\u001b[1;32m     62\u001b[0m         \u001b[0ms\u001b[0m \u001b[0;34m=\u001b[0m \u001b[0msummary_df\u001b[0m\u001b[0;34m[\u001b[0m\u001b[0mcolumns\u001b[0m\u001b[0;34m]\u001b[0m\u001b[0;34m.\u001b[0m\u001b[0mstyle\u001b[0m\u001b[0;34m\u001b[0m\u001b[0;34m\u001b[0m\u001b[0m\n\u001b[0;32m---> 63\u001b[0;31m         \u001b[0ms\u001b[0m \u001b[0;34m=\u001b[0m \u001b[0ms\u001b[0m\u001b[0;34m.\u001b[0m\u001b[0mformat\u001b[0m\u001b[0;34m(\u001b[0m\u001b[0mprecision\u001b[0m\u001b[0;34m=\u001b[0m\u001b[0mself\u001b[0m\u001b[0;34m.\u001b[0m\u001b[0mdecimals\u001b[0m\u001b[0;34m)\u001b[0m\u001b[0;34m\u001b[0m\u001b[0;34m\u001b[0m\u001b[0m\n\u001b[0m\u001b[1;32m     64\u001b[0m         \u001b[0;32mreturn\u001b[0m \u001b[0ms\u001b[0m\u001b[0;34m.\u001b[0m\u001b[0mto_latex\u001b[0m\u001b[0;34m(\u001b[0m\u001b[0;34m)\u001b[0m\u001b[0;34m\u001b[0m\u001b[0;34m\u001b[0m\u001b[0m\n\u001b[1;32m     65\u001b[0m \u001b[0;34m\u001b[0m\u001b[0m\n",
      "\u001b[0;31mTypeError\u001b[0m: format() got an unexpected keyword argument 'precision'"
     ]
    },
    {
     "data": {
      "text/html": [
       "<div>\n",
       "<style scoped>\n",
       "    .dataframe tbody tr th:only-of-type {\n",
       "        vertical-align: middle;\n",
       "    }\n",
       "\n",
       "    .dataframe tbody tr th {\n",
       "        vertical-align: top;\n",
       "    }\n",
       "\n",
       "    .dataframe thead th {\n",
       "        text-align: right;\n",
       "    }\n",
       "</style>\n",
       "<table border=\"1\" class=\"dataframe\">\n",
       "  <tbody>\n",
       "    <tr>\n",
       "      <th>model</th>\n",
       "      <td>lifelines.CoxPHFitter</td>\n",
       "    </tr>\n",
       "    <tr>\n",
       "      <th>duration col</th>\n",
       "      <td>'days_before_nomination'</td>\n",
       "    </tr>\n",
       "    <tr>\n",
       "      <th>event col</th>\n",
       "      <td>'nominated'</td>\n",
       "    </tr>\n",
       "    <tr>\n",
       "      <th>baseline estimation</th>\n",
       "      <td>breslow</td>\n",
       "    </tr>\n",
       "    <tr>\n",
       "      <th>number of observations</th>\n",
       "      <td>1.97586e+06</td>\n",
       "    </tr>\n",
       "    <tr>\n",
       "      <th>number of events observed</th>\n",
       "      <td>84792</td>\n",
       "    </tr>\n",
       "    <tr>\n",
       "      <th>partial log-likelihood</th>\n",
       "      <td>-1192943.17</td>\n",
       "    </tr>\n",
       "    <tr>\n",
       "      <th>time fit was run</th>\n",
       "      <td>2025-04-21 21:48:19 UTC</td>\n",
       "    </tr>\n",
       "  </tbody>\n",
       "</table>\n",
       "</div><table border=\"1\" class=\"dataframe\">\n",
       "  <thead>\n",
       "    <tr style=\"text-align: right;\">\n",
       "      <th style=\"min-width: 12px;\"></th>\n",
       "      <th style=\"min-width: 12px;\">coef</th>\n",
       "      <th style=\"min-width: 12px;\">exp(coef)</th>\n",
       "      <th style=\"min-width: 12px;\">se(coef)</th>\n",
       "      <th style=\"min-width: 12px;\">coef lower 95%</th>\n",
       "      <th style=\"min-width: 12px;\">coef upper 95%</th>\n",
       "      <th style=\"min-width: 12px;\">exp(coef) lower 95%</th>\n",
       "      <th style=\"min-width: 12px;\">exp(coef) upper 95%</th>\n",
       "      <th style=\"min-width: 12px;\">cmp to</th>\n",
       "      <th style=\"min-width: 12px;\">z</th>\n",
       "      <th style=\"min-width: 12px;\">p</th>\n",
       "      <th style=\"min-width: 12px;\">-log2(p)</th>\n",
       "    </tr>\n",
       "  </thead>\n",
       "  <tbody>\n",
       "    <tr>\n",
       "      <th>Gender</th>\n",
       "      <td>0.23</td>\n",
       "      <td>1.26</td>\n",
       "      <td>0.01</td>\n",
       "      <td>0.21</td>\n",
       "      <td>0.25</td>\n",
       "      <td>1.24</td>\n",
       "      <td>1.28</td>\n",
       "      <td>0.00</td>\n",
       "      <td>26.69</td>\n",
       "      <td>&lt;0.005</td>\n",
       "      <td>518.79</td>\n",
       "    </tr>\n",
       "    <tr>\n",
       "      <th>Wikipedia_Age</th>\n",
       "      <td>-0.03</td>\n",
       "      <td>0.97</td>\n",
       "      <td>0.00</td>\n",
       "      <td>-0.03</td>\n",
       "      <td>-0.03</td>\n",
       "      <td>0.97</td>\n",
       "      <td>0.97</td>\n",
       "      <td>0.00</td>\n",
       "      <td>-45.10</td>\n",
       "      <td>&lt;0.005</td>\n",
       "      <td>inf</td>\n",
       "    </tr>\n",
       "    <tr>\n",
       "      <th>Status[T.Contemporary Dead]</th>\n",
       "      <td>-1.16</td>\n",
       "      <td>0.31</td>\n",
       "      <td>0.01</td>\n",
       "      <td>-1.19</td>\n",
       "      <td>-1.13</td>\n",
       "      <td>0.31</td>\n",
       "      <td>0.32</td>\n",
       "      <td>0.00</td>\n",
       "      <td>-84.55</td>\n",
       "      <td>&lt;0.005</td>\n",
       "      <td>inf</td>\n",
       "    </tr>\n",
       "    <tr>\n",
       "      <th>Status[T.Historical]</th>\n",
       "      <td>-1.62</td>\n",
       "      <td>0.20</td>\n",
       "      <td>0.01</td>\n",
       "      <td>-1.64</td>\n",
       "      <td>-1.59</td>\n",
       "      <td>0.19</td>\n",
       "      <td>0.20</td>\n",
       "      <td>0.00</td>\n",
       "      <td>-121.86</td>\n",
       "      <td>&lt;0.005</td>\n",
       "      <td>inf</td>\n",
       "    </tr>\n",
       "    <tr>\n",
       "      <th>Gender:Status[T.Contemporary Dead]</th>\n",
       "      <td>0.13</td>\n",
       "      <td>1.14</td>\n",
       "      <td>0.03</td>\n",
       "      <td>0.07</td>\n",
       "      <td>0.19</td>\n",
       "      <td>1.07</td>\n",
       "      <td>1.21</td>\n",
       "      <td>0.00</td>\n",
       "      <td>4.14</td>\n",
       "      <td>&lt;0.005</td>\n",
       "      <td>14.79</td>\n",
       "    </tr>\n",
       "    <tr>\n",
       "      <th>Gender:Status[T.Historical]</th>\n",
       "      <td>0.42</td>\n",
       "      <td>1.53</td>\n",
       "      <td>0.03</td>\n",
       "      <td>0.36</td>\n",
       "      <td>0.48</td>\n",
       "      <td>1.44</td>\n",
       "      <td>1.62</td>\n",
       "      <td>0.00</td>\n",
       "      <td>13.71</td>\n",
       "      <td>&lt;0.005</td>\n",
       "      <td>139.78</td>\n",
       "    </tr>\n",
       "  </tbody>\n",
       "</table><br><div>\n",
       "<style scoped>\n",
       "    .dataframe tbody tr th:only-of-type {\n",
       "        vertical-align: middle;\n",
       "    }\n",
       "\n",
       "    .dataframe tbody tr th {\n",
       "        vertical-align: top;\n",
       "    }\n",
       "\n",
       "    .dataframe thead th {\n",
       "        text-align: right;\n",
       "    }\n",
       "</style>\n",
       "<table border=\"1\" class=\"dataframe\">\n",
       "  <tbody>\n",
       "    <tr>\n",
       "      <th>Concordance</th>\n",
       "      <td>0.67</td>\n",
       "    </tr>\n",
       "    <tr>\n",
       "      <th>Partial AIC</th>\n",
       "      <td>2385898.34</td>\n",
       "    </tr>\n",
       "    <tr>\n",
       "      <th>log-likelihood ratio test</th>\n",
       "      <td>33377.91 on 6 df</td>\n",
       "    </tr>\n",
       "    <tr>\n",
       "      <th>-log2(p) of ll-ratio test</th>\n",
       "      <td>inf</td>\n",
       "    </tr>\n",
       "  </tbody>\n",
       "</table>\n",
       "</div>"
      ],
      "text/plain": [
       "<lifelines.CoxPHFitter: fitted with 1.97586e+06 total observations, 1.89107e+06 right-censored observations>\n",
       "             duration col = 'days_before_nomination'\n",
       "                event col = 'nominated'\n",
       "      baseline estimation = breslow\n",
       "   number of observations = 1.97586e+06\n",
       "number of events observed = 84792\n",
       "   partial log-likelihood = -1192943.17\n",
       "         time fit was run = 2025-04-21 21:48:19 UTC\n",
       "\n",
       "---\n",
       "                                     coef  exp(coef)   se(coef)   coef lower 95%   coef upper 95%  exp(coef) lower 95%  exp(coef) upper 95%\n",
       "covariate                                                                                                                                  \n",
       "Gender                               0.23       1.26       0.01             0.21             0.25                 1.24                 1.28\n",
       "Wikipedia_Age                       -0.03       0.97       0.00            -0.03            -0.03                 0.97                 0.97\n",
       "Status[T.Contemporary Dead]         -1.16       0.31       0.01            -1.19            -1.13                 0.31                 0.32\n",
       "Status[T.Historical]                -1.62       0.20       0.01            -1.64            -1.59                 0.19                 0.20\n",
       "Gender:Status[T.Contemporary Dead]   0.13       1.14       0.03             0.07             0.19                 1.07                 1.21\n",
       "Gender:Status[T.Historical]          0.42       1.53       0.03             0.36             0.48                 1.44                 1.62\n",
       "\n",
       "                                     cmp to       z      p   -log2(p)\n",
       "covariate                                                            \n",
       "Gender                                 0.00   26.69 <0.005     518.79\n",
       "Wikipedia_Age                          0.00  -45.10 <0.005        inf\n",
       "Status[T.Contemporary Dead]            0.00  -84.55 <0.005        inf\n",
       "Status[T.Historical]                   0.00 -121.86 <0.005        inf\n",
       "Gender:Status[T.Contemporary Dead]     0.00    4.14 <0.005      14.79\n",
       "Gender:Status[T.Historical]            0.00   13.71 <0.005     139.78\n",
       "---\n",
       "Concordance = 0.67\n",
       "Partial AIC = 2385898.34\n",
       "log-likelihood ratio test = 33377.91 on 6 df\n",
       "-log2(p) of ll-ratio test = inf"
      ]
     },
     "metadata": {},
     "output_type": "display_data"
    }
   ],
   "source": [
    "fused_var_model_interaction.print_summary()"
   ]
  },
  {
   "cell_type": "code",
   "execution_count": null,
   "id": "4f73bed9",
   "metadata": {},
   "outputs": [],
   "source": []
  },
  {
   "cell_type": "code",
   "execution_count": 14,
   "id": "f477b96f",
   "metadata": {},
   "outputs": [],
   "source": [
    "%matplotlib inline"
   ]
  },
  {
   "cell_type": "code",
   "execution_count": 15,
   "id": "fc6569a7",
   "metadata": {},
   "outputs": [
    {
     "data": {
      "image/png": "[encoded data removed]",
      "text/plain": [
       "<Figure size 225x139.061 with 2 Axes>"
      ]
     },
     "metadata": {
      "needs_background": "light"
     },
     "output_type": "display_data"
    }
   ],
   "source": [
    "\n",
    "fig, ax = plt.subplots(nrows=1, ncols=2, sharex=True,sharey=True)\n",
    "fig.subplots_adjust(left=.17, bottom=.16, right=.99, top=.97)\n",
    "\n",
    "\n",
    "cycler = plt.cycler(linestyle=[':', \"--\", \"-\",':', \"--\", \"-\"],\n",
    "                    color = ['blue','blue','blue','red','red', 'red'],\n",
    ")\n",
    "ax[0].set_prop_cycle(cycler)\n",
    "\n",
    "fused_var_model.plot_partial_effects_on_outcome(covariates=['Gender','Status'],\n",
    "                                               values=[[0,'Historical'],[0,'Contemporary Dead'],[0,'Alive'],[1,'Historical'],[1,'Contemporary Dead'],[1,'Alive']],\n",
    "                                               color = ['blue','blue','blue','red','red', 'red'],\n",
    "                                                      \n",
    "                                               ax=ax[0]\n",
    "                                                       \n",
    "                                             \n",
    "                                              )\n",
    "ax[0].set_ylabel('Probability of Survival')\n",
    "ax[0].legend(labels=['Men Historical','Men Contemporary Dead','Men Alive','Women Historical','Women Contemporary Dead','Women  Alive'], \n",
    "             loc='best', bbox_to_anchor=(3.6, 1), fontsize='x-small')\n",
    "\n",
    "\n",
    "ax[1].set_prop_cycle(cycler)\n",
    "\n",
    "fused_var_model_interaction.plot_partial_effects_on_outcome(covariates=['Gender','Status'],\n",
    "                                               values=[[0,'Historical'],[0,'Contemporary Dead'],[0,'Alive'],[1,'Historical'],[1,'Contemporary Dead'],[1,'Alive']],\n",
    "                                               color = ['blue','blue','blue','red','red', 'red'],\n",
    "                                                      \n",
    "                                               ax=ax[1]\n",
    "                                                       \n",
    "                                             \n",
    "                                              )\n",
    "ax[1].set_ylabel('Probability of Survival')\n",
    "ax[1].legend('',frameon=False)\n",
    "fig.text(0.3,0,'Days before Nomination', ha='left')\n",
    "\n",
    "fig.set_size_inches(width, height)\n",
    "fig.savefig('reports/figures/marginal_effect.png', bbox_inches='tight',dpi=200)\n"
   ]
  },
  {
   "cell_type": "code",
   "execution_count": null,
   "id": "83e320bc",
   "metadata": {},
   "outputs": [],
   "source": []
  },
  {
   "cell_type": "code",
   "execution_count": 26,
   "id": "779ac338",
   "metadata": {},
   "outputs": [
    {
     "name": "stdout",
     "output_type": "stream",
     "text": [
      "p: 0.000000000000000000000000000000\n"
     ]
    }
   ],
   "source": [
    "from scipy.stats.distributions import chi2\n",
    "def likelihood_ratio(llmin, llmax):\n",
    "    return(2*(llmax-llmin))\n",
    "\n",
    "L1 = fused_var_model.log_likelihood_    #-1193035.17\n",
    "\n",
    "\n",
    "L2 = fused_var_model_interaction.log_likelihood_   #-1192943.17\n",
    "\n",
    "\n",
    "LR = likelihood_ratio(L1,L2)\n",
    "\n",
    "\n",
    "p = chi2.sf(LR, 1) # L2 has 1 DoF more than L1\n",
    "\n",
    "print('p: %.30f' % p )\n",
    "\n",
    "# p: 0.000000000000000000000000000000"
   ]
  },
  {
   "cell_type": "code",
   "execution_count": null,
   "id": "51ff9e91",
   "metadata": {},
   "outputs": [],
   "source": []
  },
  {
   "cell_type": "markdown",
   "id": "50e28f5d",
   "metadata": {},
   "source": [
    "# Experiment with Decision"
   ]
  },
  {
   "cell_type": "code",
   "execution_count": null,
   "id": "6023cc74",
   "metadata": {},
   "outputs": [],
   "source": [
    "# data_for_compete_risk_nominated['event'].apply(lambda x:x.replace(\"<span style=\\\"color:red;\\\">\",\"\")\n",
    "#                                                .replace(\"</span>\",\"\")\n",
    "#                                                .replace(\"<font color=green>\",\"\")\n",
    "#                                                .replace(\"</font>\",\"\")\n",
    "#                                                .replace(\"<font color=red>\",\"\")\n",
    "#                                                .replace(\"<s>\",\"\")\n",
    "#                                                .replace(\"</s>\",\"\")                                          \n",
    "#                                                .replace(\".\",\"\")\n",
    "#                                                .replace(\":\",\"\")\n",
    "#                                                .replace(\",\",\"\")\n",
    "#                                                .replace(\"deleted\",\"delete\")\n",
    "#                                                .replace(\"deletion\",\"delete\")\n",
    "#                                                .replace(\"[[wpsoftdelete|\",\"\")\n",
    "#                                                .replace(\"delete]]\",\"delete\")\n",
    "#                                                .replace(\"kept\",\"keep\")\n",
    "#                                                .replace(\"redirected\",\"redirect\")\n",
    "#                                                .replace(\"speedily \",\"\")\n",
    "#                                                .replace(\"speedy \",\"\")\n",
    "#                                                .replace(\"soft \",\"\")\n",
    "#                                                .replace(\"weak \",\"\")\n",
    "#                                                .replace(\"snow \",\"\")\n",
    "#                                                .replace(\"strong \",\"\")\n",
    "#                                                .replace(\"boldly \",\"\")\n",
    "#                                                .replace(\"snowball \",\"\")\n",
    "#                                                .replace(\"unanimous \",\"\")\n",
    "#                                                .replace(\"[[wpsnow]] \",\"\")\n",
    "#                                                .replace(\"[[wpsnow|snow]] \",\"\")\n",
    "#                                                .replace(\"already \",\"\")\n",
    "#                                                .replace(\"procedural \",\"\")\n",
    "#                                                .replace(\"nomination \",\"\")\n",
    "#                                                .replace(\"nom \",\"\")\n",
    "#                                                .replace(\", withdrawn\",\"\")\n",
    "#                                                .replace(\" without prejudice\",\"\")\n",
    "#                                                .replace(\" (non-admin closure)\",\"\")\n",
    "#                                                .replace(\" to delete\",\"\")\n",
    "#                                                .replace(\" for delete\",\"\")\n",
    "#                                                .replace(\" (no consensus)\",\"\")\n",
    "#                                                .replace(\" and cleanup\",\"\")\n",
    "#                                                .replace(\" and salt\",\"\")\n",
    "#                                                .replace(\" by nominator\",\"\")\n",
    "#                                                .replace(\" by nom\",\"\")\n",
    "#                                                .replace(\", default to keep\",\"\")\n",
    "#                                                .replace(\"; default to keep\",\"\")\n",
    "#                                                .replace(\"; keep\",\"\")\n",
    "#                                                .replace(\"flagged as \",\"\")\n",
    "#                                                .replace(\" (withdrawn)\",\"\")\n",
    "#                                                .replace(\"/withdrawn\",\"\")\n",
    "#                                                .replace(\" all\",\"\")\n",
    "#                                                .replace(\" both\",\"\")\n",
    "#                                                .replace(\" (non-admin)\",\"\")                                          \n",
    "#                                                .replace(\"delete (a7)\",\"delete\")\n",
    "#                                                .replace(\"delete a7\",\"delete\")\n",
    "#                                                .replace(\"delete as copyvio\",\"delete\")\n",
    "#                                                .replace(\" per delete\",\"\")\n",
    "#                                                .replace(\"delete per delete\",\"delete\")\n",
    "#                                                .replace(\"a7\",\"delete\")\n",
    "#                                                .replace(\"copyvio\",\"delete\")\n",
    "#                                                .replace(\"speedied\",\"delete\")\n",
    "#                                                .replace(\"speedy\",\"delete\")\n",
    "#                                                .replace(\"delete delete\",\"delete\")\n",
    "#                                                .replace(\" delete\",\"delete\")\n",
    "#                                                .replace(\"delete perdelete\",\"delete\")\n",
    "#                                                .replace(\"delete -delete\",\"delete\")\n",
    "#                                                .replace(\"delete underdelete\",\"delete\")\n",
    "#                                                .replace(\"delete \",\"delete\")\n",
    "#                                                .replace(\"deletefor now\",\"delete\")\n",
    "#                                                .replace(\"delete-delete\",\"delete\")                                          \n",
    "#                                                .replace(\", no consensus\",\"\")\n",
    "#                                                .replace(\"<font color=blue>\",\"\")\n",
    "#                                                .replace(\" as non-notable\",\"\")\n",
    "#                                                .replace(\"/redirect\",\"\")\n",
    "#                                                .replace(\"no consensus default to keep\",\"keep\")\n",
    "#                                               .replace(\"no consensus keep\",\"keep\")\n",
    "#                                               .replace(\"no consensus defaulting to keep\",\"keep\")\n",
    "#                                               .replace(\"keep no consensus\",\"keep\")\n",
    "#                                               .replace(\"keep withdrawn\",\"keep\")\n",
    "#                                               .replace(\"close\",\"keep\")\n",
    "#                                               .replace(\"withdrawn\",\"keep\")\n",
    "#                                               .replace(\"keepd\",\"keep\")\n",
    "#                                               .replace(\"procedurally keep\",\"keep\")\n",
    "#                                               .replace(\"keep keep\",\"keep\")\n",
    "#                                               .replace(\"keep - keep\",\"keep\")\n",
    "#                                               .replace(\"keep and expand\",\"keep\")\n",
    "#                                                .replace(\"withdraw\",\"keep\")\n",
    "#                                                .replace(\"keep; keep\",\"keep\")\n",
    "#                                                .replace(\"not delete\",\"keep\")\n",
    "#                                                .replace(\" keep\",\"keep\")\n",
    "#                                                .replace(\"keep for now\",\"keep\")\n",
    "#                                                .replace(\"[[wpsnow|keep]]\",\"keep\")\n",
    "#                                                .replace(\"keep andkeep\",\"keep\")\n",
    "#                                                .replace(\"'keep\",\"keep\")\n",
    "#                                                .replace(\"keep per [[wpsnow]]\",\"keep\")\n",
    "#                                                .replace(\"nominatorkeep\",\"keep\")\n",
    "#                                                .replace(\"keep/keep\",\"keep\")\n",
    "#                                                .replace(\"move\",\"keep\")\n",
    "#                                                .replace(\"keep as moot\",\"keep\")\n",
    "#                                                .replace(\"[[wikipediakeep|keep]]\",\"keep\")\n",
    "#                                                .replace(\"[[wpsk|keep]]\",\"keep\")\n",
    "#                                                .replace(\"[[wpkeep]]\",\"keep\")\n",
    "#                                                .replace(\"moot\",\"keep\")\n",
    "#                                                .replace(\"notdelete\",\"keep\")\n",
    "#                                                .replace(\"keep and keep\",\"keep\")\n",
    "#                                                .replace(\"keepal\",\"keep\")\n",
    "#                                                .replace(\"keepd\",\"keep\")\n",
    "#                                                .replace(\"no consensus =keep\",\"keep\")\n",
    "#                                                .replace(\"[[wpsnow|snowball]]keep\",\"keep\")                                         \n",
    "#                                               .replace(\"delete and redirect\",\"redirect\")\n",
    "#                                               .replace(\"deleteand redirect\",\"redirect\")                                           \n",
    "#                                               .replace(\"merge and redirect\",\"merge\")\n",
    "#                                               .replace(\"merged\",\"merge\")                                           \n",
    "#                                               .replace(\"no concensus\",\"no consensus\")\n",
    "#                                               .replace(\" no consensus\",\"no consensus\")\n",
    "#                                               .replace(\"no-consensus\",\"no consensus\")                                           \n",
    "#                                               .replace(\"no opinion\",\"comment\")\n",
    "#                                               .replace(\"delete per delete\",\"delete\")\n",
    "#                                               .replace(\"deleteg7\",\"delete\")                                          \n",
    "#                                           )"
   ]
  },
  {
   "cell_type": "code",
   "execution_count": null,
   "id": "dc4fcf87",
   "metadata": {},
   "outputs": [],
   "source": []
  },
  {
   "cell_type": "markdown",
   "id": "c78b60f6",
   "metadata": {},
   "source": [
    "# Covariance over time(Multi-State-Model)"
   ]
  },
  {
   "cell_type": "code",
   "execution_count": 27,
   "id": "cad2eed9",
   "metadata": {},
   "outputs": [],
   "source": [
    "result_compete_risk_all = pd.read_csv('data/processed/data_for_compete_risk_all_iter_all_results3.csv', index_col=False)"
   ]
  },
  {
   "cell_type": "code",
   "execution_count": 28,
   "id": "432bd833",
   "metadata": {},
   "outputs": [],
   "source": [
    "result_compete_risk_all=result_compete_risk_all[result_compete_risk_all['action']!='remove']"
   ]
  },
  {
   "cell_type": "code",
   "execution_count": null,
   "id": "612fe5fd",
   "metadata": {},
   "outputs": [],
   "source": []
  },
  {
   "cell_type": "code",
   "execution_count": 29,
   "id": "0f1cc580",
   "metadata": {},
   "outputs": [],
   "source": [
    "def plot_compete(action):\n",
    "    \n",
    "    plt.rc('font', family='serif', serif='Times')\n",
    "    plt.rc('xtick', labelsize=5.5)\n",
    "    plt.rc('ytick', labelsize=6)\n",
    "    plt.rc('axes', labelsize=6)\n",
    "\n",
    "    width = .72\n",
    "    height = 1.618 \n",
    "\n",
    "    coef_list=result_compete_risk_all[(result_compete_risk_all['action']==action)][['year','covariate','estimate']]\n",
    "    se_list=result_compete_risk_all[(result_compete_risk_all['action']==action)][['year','covariate','robust.se']]\n",
    "    max_limit_upper=coef_list['estimate'].max()\n",
    "    max_limit_upper = max_limit_upper + list(result_compete_risk_all[result_compete_risk_all['estimate']==max_limit_upper]['robust.se'])[0]\n",
    "    min_limit_upper=coef_list['estimate'].min()\n",
    "    min_limit_upper = min_limit_upper + list(result_compete_risk_all[result_compete_risk_all['estimate']==min_limit_upper]['robust.se'])[0]\n",
    "\n",
    "\n",
    "    Pvalue_list=result_compete_risk_all[(result_compete_risk_all['action']==action)][['year','covariate','p.value']]\n",
    "    alpha_plot=2\n",
    "    Pvalue_list['p.value2']=Pvalue_list['p.value'].apply(lambda x: 10 if x<0.05 else alpha_plot)\n",
    "\n",
    "    \n",
    "    fig, ax = plt.subplots()\n",
    "    fig.subplots_adjust(left=.18, bottom=.2, right=.99, top=.97)\n",
    "\n",
    "    \n",
    "    p=ax.errorbar(coef_list[coef_list['covariate']=='Historical']['year'],coef_list[coef_list['covariate']=='Historical']['estimate'], yerr=se_list[se_list['covariate']=='Historical']['robust.se'], alpha=.5, c= 'black', linestyle='dotted', linewidth=0.5)\n",
    "\n",
    "    for ii in range(len(coef_list['year'].unique())):\n",
    "        ax.scatter(coef_list[coef_list['covariate']=='Historical']['year'].iloc[ii],coef_list[coef_list['covariate']=='Historical']['estimate'].iloc[ii],label='Historical',marker='o', s=Pvalue_list[Pvalue_list['covariate']=='Historical']['p.value2'].iloc[ii],facecolors='none',edgecolors='#a6cee3') \n",
    "    \n",
    "    \n",
    "    p=ax.errorbar(coef_list[coef_list['covariate']=='Contemporary Dead']['year'],coef_list[coef_list['covariate']=='Contemporary Dead']['estimate'], yerr=se_list[se_list['covariate']=='Contemporary Dead']['robust.se'], alpha= 0.5, c= 'black', linestyle='dotted', linewidth=0.5)\n",
    "    for ii in range(len(coef_list['year'].unique())):\n",
    "        ax.scatter(coef_list[coef_list['covariate']=='Contemporary Dead']['year'].iloc[ii],coef_list[coef_list['covariate']=='Contemporary Dead']['estimate'].iloc[ii],label='Contemporary_Dead',marker='o', s=Pvalue_list[Pvalue_list['covariate']=='Contemporary Dead']['p.value2'].iloc[ii], facecolors='none', edgecolors='#b2df8a')\n",
    "\n",
    "    p=ax.errorbar(coef_list[coef_list['covariate']=='Gender:Contemporary Dead']['year'],coef_list[coef_list['covariate']=='Gender:Contemporary Dead']['estimate'], yerr=se_list[se_list['covariate']=='Gender:Contemporary Dead']['robust.se'], alpha= 0.5, c= 'black', linestyle='dotted', linewidth=0.5)\n",
    "    for ii in range(len(coef_list['year'].unique())):\n",
    "        ax.scatter(coef_list[coef_list['covariate']=='Gender:Contemporary Dead']['year'].iloc[ii],coef_list[coef_list['covariate']=='Gender:Contemporary Dead']['estimate'].iloc[ii],label='Gender:Contemporary Dead',marker='o', s=Pvalue_list[Pvalue_list['covariate']=='Gender:Contemporary Dead']['p.value2'].iloc[ii], facecolors='none', edgecolors='#33a02c')    \n",
    "    \n",
    "    p=ax.errorbar(coef_list[coef_list['covariate']=='Gender:Historical']['year'],coef_list[coef_list['covariate']=='Gender:Historical']['estimate'], yerr=se_list[se_list['covariate']=='Gender:Historical']['robust.se'], alpha= 0.5, c= 'black', linestyle='dotted', linewidth=0.5)\n",
    "    for ii in range(len(coef_list['year'].unique())):\n",
    "        ax.scatter(coef_list[coef_list['covariate']=='Gender:Historical']['year'].iloc[ii],coef_list[coef_list['covariate']=='Gender:Historical']['estimate'].iloc[ii],label='Gender:Historical',marker='o', s=Pvalue_list[Pvalue_list['covariate']=='Gender:Historical']['p.value2'].iloc[ii], facecolors='none', edgecolors='#1f78b4')    \n",
    "    \n",
    "    \n",
    "    p=ax.errorbar(coef_list[coef_list['covariate']=='Gender']['year'],coef_list[coef_list['covariate']=='Gender']['estimate'], yerr=se_list[se_list['covariate']=='Gender']['robust.se'], alpha= 0.5, c= 'black', linestyle='dotted', linewidth=0.5)\n",
    "    for ii in range(len(coef_list['year'].unique())):\n",
    "        ax.scatter(coef_list[coef_list['covariate']=='Gender']['year'].iloc[ii],coef_list[coef_list['covariate']=='Gender']['estimate'].iloc[ii],label='Gender',marker='o', s=Pvalue_list[Pvalue_list['covariate']=='Gender']['p.value2'].iloc[ii], facecolors='none', edgecolors='#fb9a99')    \n",
    "    \n",
    "    \n",
    "\n",
    "    labels = ['Gender','Historical','Gender $\\\\times$ \\n Historical','Cont. Dead','Gender $\\\\times$ \\n Cont. Dead']\n",
    "    colors=['#fb9a99','#a6cee3', '#1f78b4', '#b2df8a', '#33a02c' ] \n",
    "\n",
    "\n",
    "\n",
    "    if action == \"Delete\":\n",
    "        \n",
    "        leg=ax.legend(labels=labels,loc='best',fontsize=4.72, handletextpad=0.05)\n",
    "\n",
    "        for i, j in enumerate(leg.legendHandles):\n",
    "            j.set_color(colors[i])\n",
    "            j._sizes = [5]\n",
    "\n",
    "\n",
    "    \n",
    "   \n",
    "    \n",
    "    if action in ['Redirect','Merge']:\n",
    "        ax.annotate(r'Ends at $'+str(round(max_limit_upper,2))+'$', xy=(2005, 2.1), xytext=(2009, 1.5), fontsize=4, arrowprops=dict(facecolor='black', shrink=1, headlength=1, width=.005,headwidth=2), )\n",
    "        ax.annotate(r'Ends at $'+str(round(min_limit_upper,2))+'$', xy=(2005, -2), xytext=(2009, -1.8), fontsize=4, arrowprops=dict(facecolor='black', shrink=1, headlength=1, width=.005,headwidth=2), )\n",
    "\n",
    "        ax.set_ylim(-2.2,2.2)\n",
    "        \n",
    "        \n",
    "    \n",
    "    \n",
    "    \n",
    "\n",
    "    ax.plot(coef_list['year'].unique(),np.zeros(len(coef_list['year'].unique())), linestyle='dotted', color='black', alpha=.8, linewidth=0.9)\n",
    "    ax.set_xticks(coef_list['year'].unique().astype(int))\n",
    "    ax.set_xticklabels(ax.get_xticks(), rotation = 0)\n",
    "    ax.xaxis.set_major_locator(MultipleLocator(5))\n",
    "\n",
    "    # For the minor ticks, use no labels; default NullFormatter.\n",
    "    ax.xaxis.set_minor_locator(AutoMinorLocator())\n",
    "    ax.set_title('$\\\\^\\\\beta$ ('+action + ')', fontsize=8)   \n",
    "    ax.tick_params(direction='out', length=5, width=1)\n",
    "    ax.tick_params(which='major', pad=1)\n",
    "    \n",
    "    fig_dict={'Nominated':'Fig7a','Delete':'Fig7b','Keep':'Fig7c','Redirect':'Fig7d','Merge':'Fig7e'}    \n",
    "    fig.tight_layout()\n",
    "    \n",
    "    fig.set_size_inches(width, height)\n",
    "    fig.show()\n",
    "    fig.savefig('reports/figures/'+fig_dict[action]+'-decision_retrospective'+action+'.png', bbox_inches='tight',dpi=200)\n"
   ]
  },
  {
   "cell_type": "code",
   "execution_count": 30,
   "id": "84e08f09",
   "metadata": {},
   "outputs": [
    {
     "data": {
      "image/png": "[encoded data removed]",
      "text/plain": [
       "<Figure size 51.84x116.496 with 1 Axes>"
      ]
     },
     "metadata": {
      "needs_background": "light"
     },
     "output_type": "display_data"
    }
   ],
   "source": [
    "plot_compete('Nominated')"
   ]
  },
  {
   "cell_type": "code",
   "execution_count": 31,
   "id": "5c282d44",
   "metadata": {},
   "outputs": [
    {
     "data": {
      "image/png": "[encoded data removed]",
      "text/plain": [
       "<Figure size 51.84x116.496 with 1 Axes>"
      ]
     },
     "metadata": {
      "needs_background": "light"
     },
     "output_type": "display_data"
    }
   ],
   "source": [
    "plot_compete('Delete')"
   ]
  },
  {
   "cell_type": "code",
   "execution_count": 32,
   "id": "e6ae0cf6",
   "metadata": {},
   "outputs": [
    {
     "data": {
      "image/png": "[encoded data removed]",
      "text/plain": [
       "<Figure size 51.84x116.496 with 1 Axes>"
      ]
     },
     "metadata": {
      "needs_background": "light"
     },
     "output_type": "display_data"
    }
   ],
   "source": [
    "plot_compete('Keep')"
   ]
  },
  {
   "cell_type": "code",
   "execution_count": 33,
   "id": "6687398a",
   "metadata": {},
   "outputs": [
    {
     "data": {
      "image/png": "[encoded data removed]",
      "text/plain": [
       "<Figure size 51.84x116.496 with 1 Axes>"
      ]
     },
     "metadata": {
      "needs_background": "light"
     },
     "output_type": "display_data"
    }
   ],
   "source": [
    "plot_compete('Redirect')"
   ]
  },
  {
   "cell_type": "code",
   "execution_count": 34,
   "id": "e9b0b681",
   "metadata": {},
   "outputs": [
    {
     "data": {
      "image/png": "[encoded data removed]",
      "text/plain": [
       "<Figure size 51.84x116.496 with 1 Axes>"
      ]
     },
     "metadata": {
      "needs_background": "light"
     },
     "output_type": "display_data"
    }
   ],
   "source": [
    "plot_compete('Merge')"
   ]
  },
  {
   "cell_type": "code",
   "execution_count": null,
   "id": "0fce9146",
   "metadata": {},
   "outputs": [],
   "source": []
  },
  {
   "cell_type": "code",
   "execution_count": null,
   "id": "2d14b086",
   "metadata": {},
   "outputs": [],
   "source": []
  },
  {
   "cell_type": "markdown",
   "id": "cdba7183",
   "metadata": {},
   "source": [
    "# Study on the direction on Merge and Redirect"
   ]
  },
  {
   "cell_type": "markdown",
   "id": "4214eb41",
   "metadata": {},
   "source": [
    "# Permutation Test"
   ]
  },
  {
   "cell_type": "code",
   "execution_count": 35,
   "id": "1065c8a6",
   "metadata": {},
   "outputs": [],
   "source": [
    "data_redirect_decision2_all = pd.read_csv('data/raw/data_redirect_decision2_all.csv', index_col=False)\n",
    "data_merge_decision2_all = pd.read_csv('data/raw/data_merge_decision2_all.csv', index_col=False)\n",
    "\n",
    "data_redirect_decision2_all3=data_redirect_decision2_all[data_redirect_decision2_all['QID2']!='no data']\n",
    "data_merge_decision2_all3=data_merge_decision2_all[data_merge_decision2_all['QID2']!='no data']\n",
    "\n",
    "\n",
    "data_redirect_decision2_all3['Gender']= data_redirect_decision2_all3['Gender'].apply(lambda x: 'Men' if x==0 else 'Women')\n",
    "data_redirect_decision2_all3['instance of2']= data_redirect_decision2_all3.apply(lambda x: x['Gender2'] if x['instance of']=='human' else 'not human', axis=1)\n",
    "\n",
    "data_merge_decision2_all3['Gender']= data_merge_decision2_all3['Gender'].apply(lambda x: 'Men' if x==0 else 'Women')\n",
    "data_merge_decision2_all3['instance of2']= data_merge_decision2_all3.apply(lambda x: x['Gender2'] if x['instance of']=='human' else 'not human', axis=1)"
   ]
  },
  {
   "cell_type": "code",
   "execution_count": 36,
   "id": "d0348c1b",
   "metadata": {},
   "outputs": [],
   "source": [
    "def permutation_test_for_outcomes(data, option):\n",
    "\n",
    "    \n",
    "    men=data[data['Gender']=='Men'][['Gender','instance of2']]\n",
    "    men['Gender of Alter']=men['instance of2'].apply(lambda x: 'same' if x=='male' else('opposite' if x=='female' else 'non-bios'))\n",
    "    women=data[data['Gender']=='Women'][['Gender','instance of2']]\n",
    "    women['Gender of Alter']=women['instance of2'].apply(lambda x: 'same' if x=='female' else('opposite' if x=='male' else 'non-bios'))\n",
    "    biography_all= pd.concat([men.drop(columns=['instance of2']),women.drop(columns=['instance of2'])])\n",
    "\n",
    "    biography_all\n",
    "    contingency_table=pd.crosstab(biography_all['Gender'], biography_all['Gender of Alter'])\n",
    "    contingency_table = contingency_table.rename_axis(\"Group\", axis=\"index\")\n",
    "    table= contingency_table.div(contingency_table.sum(axis=1), axis=0)\n",
    "    print(table)\n",
    "\n",
    "    \n",
    "\n",
    "\n",
    "\n",
    "\n",
    "\n",
    "\n",
    "\n",
    "    n_permutations = 1000\n",
    "    perm_stats = []\n",
    "    alter_column = option + '_to2'\n",
    "    men_expected = []\n",
    "    women_expected = []\n",
    "    table3 =pd.DataFrame()\n",
    "\n",
    "\n",
    "    for _ in nb.tqdm(range(n_permutations)):\n",
    "\n",
    "        shuffled_data = data.copy()\n",
    "        shuffled_data_part = pd.DataFrame(np.random.permutation(data[[alter_column,'instance of2']]), columns=[alter_column,'instance of2'])\n",
    "        shuffled_data[alter_column]= shuffled_data_part[alter_column]\n",
    "        shuffled_data['instance of2']= shuffled_data_part['instance of2']\n",
    "        men=shuffled_data[shuffled_data['Gender']=='Men'][['Gender','instance of2']]\n",
    "        men['Gender of Alter']=men['instance of2'].apply(lambda x: 'same' if x=='male' else('opposite' if x=='female' else 'non-bios'))\n",
    "        women=shuffled_data[shuffled_data['Gender']=='Women'][['Gender','instance of2']]\n",
    "        women['Gender of Alter']=women['instance of2'].apply(lambda x: 'same' if x=='female' else('opposite' if x=='male' else 'non-bios'))\n",
    "        shuffled_data_biography= pd.concat([men.drop(columns=['instance of2']),women.drop(columns=['instance of2'])])\n",
    "        contingency_table=pd.crosstab(shuffled_data_biography['Gender'], shuffled_data_biography['Gender of Alter'])\n",
    "        contingency_table = contingency_table.rename_axis(\"Group\", axis=\"index\")\n",
    "        table2=contingency_table.div(contingency_table.sum(axis=1), axis=0)\n",
    "        table3=pd.concat([table3,table2])\n",
    "    \n",
    "   \n",
    "    means=table3.groupby('Group').mean()\n",
    "    stds=table3.groupby('Group').std()\n",
    "    print(means)\n",
    "    table3=table3.reset_index()\n",
    "    men_tab=table3[table3['Group']=='Men']\n",
    "    women_tab=table3[table3['Group']=='Women']\n",
    "    \n",
    "    return table,men_tab, women_tab\n",
    "\n",
    "    \n",
    "#     \n",
    "    "
   ]
  },
  {
   "cell_type": "code",
   "execution_count": null,
   "id": "616d1e67",
   "metadata": {},
   "outputs": [
    {
     "name": "stdout",
     "output_type": "stream",
     "text": [
      "Gender of Alter  non-bios  opposite      same\n",
      "Group                                        \n",
      "Men              0.735579  0.013474  0.250947\n",
      "Women            0.708553  0.111932  0.179514\n"
     ]
    },
    {
     "data": {
      "application/vnd.jupyter.widget-view+json": {
       "model_id": "ded6f7226afc49ddb8753083e247c910",
       "version_major": 2,
       "version_minor": 0
      },
      "text/plain": [
       "  0%|          | 0/1000 [00:00<?, ?it/s]"
      ]
     },
     "metadata": {},
     "output_type": "display_data"
    }
   ],
   "source": [
    "table_re,men_tab_re, women_tab_re=permutation_test_for_outcomes(data_redirect_decision2_all3, 'redirect')"
   ]
  },
  {
   "cell_type": "code",
   "execution_count": 44,
   "id": "7888a63d",
   "metadata": {},
   "outputs": [
    {
     "name": "stdout",
     "output_type": "stream",
     "text": [
      "Gender of Alter  non-bios  opposite      same\n",
      "Group                                        \n",
      "Men              0.583765  0.017271  0.398964\n",
      "Women            0.458333  0.226852  0.314815\n"
     ]
    },
    {
     "data": {
      "application/vnd.jupyter.widget-view+json": {
       "model_id": "ce87e132a4af4c1b8b1f7962de7ad5a5",
       "version_major": 2,
       "version_minor": 0
      },
      "text/plain": [
       "  0%|          | 0/1000 [00:00<?, ?it/s]"
      ]
     },
     "metadata": {},
     "output_type": "display_data"
    },
    {
     "name": "stdout",
     "output_type": "stream",
     "text": [
      "Gender of Alter  non-bios  opposite      same\n",
      "Group                                        \n",
      "Men              0.664117  0.073040  0.262843\n",
      "Women            0.658023  0.267255  0.074722\n"
     ]
    }
   ],
   "source": [
    "table_me,men_tab_me, women_tab_me=permutation_test_for_outcomes(data_merge_decision2_all3, 'merge')"
   ]
  },
  {
   "cell_type": "code",
   "execution_count": 45,
   "id": "116c9211",
   "metadata": {},
   "outputs": [
    {
     "data": {
      "image/png": "[encoded data removed]",
      "text/plain": [
       "<Figure size 225x139.061 with 2 Axes>"
      ]
     },
     "metadata": {
      "needs_background": "light"
     },
     "output_type": "display_data"
    }
   ],
   "source": [
    "width = 3.125\n",
    "height = width / 1.618\n",
    "plt.rc('font', family='serif', serif='Times')\n",
    "plt.rc('xtick', labelsize=7)\n",
    "plt.rc('ytick', labelsize=6)\n",
    "plt.rc('axes', labelsize=8)\n",
    "# set width of bar \n",
    "barWidth = 0.6\n",
    "fig, ax = plt.subplots(nrows=1, ncols=2, sharex=True,sharey=True)\n",
    "\n",
    "ax[0]=table_re.T.plot(kind='bar', ax=ax[0], color=['blue','red'], width=barWidth, alpha=.8)\n",
    "xval= ax[0].get_xticks()\n",
    "\n",
    "men_tab_re.boxplot( color='black', positions=[xval[0]-barWidth/4,xval[1]-barWidth/4,xval[2]-barWidth/4],grid=False, ax=ax[0])\n",
    "women_tab_re.boxplot( color='black', positions=[xval[0]+barWidth/4,xval[1]+barWidth/4,xval[2]+barWidth/4],grid=False, ax=ax[0])\n",
    "ticks = table_re.columns\n",
    "ax[0].set_title(\"Redirect\", fontsize=10)\n",
    "ax[0].legend(fontsize=8)\n",
    "\n",
    "ax[1]=table_me.T.plot(kind='bar', ax=ax[1], color=['blue','red'], width=barWidth, alpha=.8)\n",
    "xval= ax[1].get_xticks()\n",
    "men_tab_me.boxplot( color='black', positions=[xval[0]-barWidth/4,xval[1]-barWidth/4,xval[2]-barWidth/4],grid=False, ax=ax[1])\n",
    "women_tab_me.boxplot( color='black', positions=[xval[0]+barWidth/4,xval[1]+barWidth/4,xval[2]+barWidth/4],grid=False, ax=ax[1])\n",
    "ticks = table_me.columns\n",
    "\n",
    "\n",
    "ax[1].set_title(\"Merge\", fontsize=10)\n",
    "ax[1].get_legend().remove()\n",
    "plt.xticks(xval,ticks)\n",
    "ax[0].set_ylabel('Fraction')\n",
    "fig.tight_layout()\n",
    "fig.set_size_inches(width, height)\n",
    "fig.savefig('reports/figures/Fig6-Direction_to_merge_and_redirect.png', dpi=200, bbox_inches='tight')\n",
    "fig.show()\n"
   ]
  },
  {
   "cell_type": "code",
   "execution_count": null,
   "id": "e75e0c9f",
   "metadata": {},
   "outputs": [],
   "source": []
  },
  {
   "cell_type": "code",
   "execution_count": null,
   "id": "ee89be6e",
   "metadata": {},
   "outputs": [],
   "source": []
  }
 ],
 "metadata": {
  "kernelspec": {
   "display_name": "Python 3",
   "language": "python",
   "name": "python3"
  },
  "language_info": {
   "codemirror_mode": {
    "name": "ipython",
    "version": 3
   },
   "file_extension": ".py",
   "mimetype": "text/x-python",
   "name": "python",
   "nbconvert_exporter": "python",
   "pygments_lexer": "ipython3",
   "version": "3.8.8"
  }
 },
 "nbformat": 4,
 "nbformat_minor": 5
}
